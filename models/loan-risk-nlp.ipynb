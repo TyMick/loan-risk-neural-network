{
 "cells": [
  {
   "cell_type": "markdown",
   "metadata": {
    "papermill": {
     "duration": 0.021658,
     "end_time": "2020-10-13T23:01:38.668362",
     "exception": false,
     "start_time": "2020-10-13T23:01:38.646704",
     "status": "completed"
    },
    "tags": []
   },
   "source": [
    "# Natural Language Processing for Loan Risk\n",
    "\n",
    "1. **[The story so far](#The-story-so-far)**\n",
    "2. **[Exploratory data analysis](#Exploratory-data-analysis)**\n",
    "3. **[Imputing missing values](#Imputing-missing-values)**\n",
    "4. **[Optimizing data types](#Optimizing-data-types)**\n",
    "5. **[Creating document vectors](#Creating-document-vectors)**\n",
    "6. **[Building the pipeline](#Building-the-pipeline)**\n",
    "7. **[Evaluating the model](#Evaluating-the-model)**\n",
    "8. **[Next steps](#Next-steps)**\n",
    "\n",
    "## The story so far\n",
    "\n",
    "A couple months ago, I [built a neural network regression model](https://www.kaggle.com/tywmick/building-a-neural-network-to-predict-loan-risk) to predict loan risk, training it with a [public dataset](https://www.kaggle.com/wordsforthewise/lending-club) from [LendingClub](https://www.lendingclub.com/). Then I built a [public API](https://tywmick.pythonanywhere.com/) with [Flask](https://flask.palletsprojects.com/en/1.1.x/) to serve the model's predictions.\n",
    "\n",
    "Then a few weeks ago, I decided to put my model to the test and found out that my model can pick grade A loans [better than LendingClub](https://www.kaggle.com/tywmick/can-i-grade-loans-better-than-lendingclub)!\n",
    "\n",
    "But I'm not done. Now that I've learned the fundamentals of natural language processing (I highly recommend [Kaggle's course](https://www.kaggle.com/learn/natural-language-processing) on the subject), I'm going to see if I can eke out a bit more predictive power using a couple of freeform text fields in the dataset: `title` and `desc` (description)."
   ]
  },
  {
   "cell_type": "code",
   "execution_count": 1,
   "metadata": {
    "_cell_guid": "b1076dfc-b9ad-4769-8c92-a6c4dae69d19",
    "_uuid": "8f2839f25d086af736a60e9eeb907d3b93b6e0e5",
    "execution": {
     "iopub.execute_input": "2020-10-13T23:01:38.715076Z",
     "iopub.status.busy": "2020-10-13T23:01:38.714405Z",
     "iopub.status.idle": "2020-10-13T23:01:41.637296Z",
     "shell.execute_reply": "2020-10-13T23:01:41.636305Z"
    },
    "papermill": {
     "duration": 2.948481,
     "end_time": "2020-10-13T23:01:41.637456",
     "exception": false,
     "start_time": "2020-10-13T23:01:38.688975",
     "status": "completed"
    },
    "tags": []
   },
   "outputs": [
    {
     "name": "stdout",
     "output_type": "stream",
     "text": [
      "This dataset includes 1,110,171 loans.\n"
     ]
    }
   ],
   "source": [
    "import joblib\n",
    "\n",
    "prev_notebook_folder = \"../input/building-a-neural-network-to-predict-loan-risk/\"\n",
    "loans = joblib.load(prev_notebook_folder + \"loans_for_nlp.joblib\")\n",
    "num_loans = loans.shape[0]\n",
    "print(f\"This dataset includes {num_loans:,} loans.\")"
   ]
  },
  {
   "cell_type": "code",
   "execution_count": 2,
   "metadata": {
    "_cell_guid": "79c7e3d0-c299-4dcb-8224-4455121ee9b0",
    "_uuid": "d629ff2d2480ee46fbb7e2d37f6b5fab8052498a",
    "execution": {
     "iopub.execute_input": "2020-10-13T23:01:41.716099Z",
     "iopub.status.busy": "2020-10-13T23:01:41.692715Z",
     "iopub.status.idle": "2020-10-13T23:01:41.733109Z",
     "shell.execute_reply": "2020-10-13T23:01:41.733978Z"
    },
    "papermill": {
     "duration": 0.071298,
     "end_time": "2020-10-13T23:01:41.734212",
     "exception": false,
     "start_time": "2020-10-13T23:01:41.662914",
     "status": "completed"
    },
    "tags": []
   },
   "outputs": [
    {
     "data": {
      "text/html": [
       "<div>\n",
       "<style scoped>\n",
       "    .dataframe tbody tr th:only-of-type {\n",
       "        vertical-align: middle;\n",
       "    }\n",
       "\n",
       "    .dataframe tbody tr th {\n",
       "        vertical-align: top;\n",
       "    }\n",
       "\n",
       "    .dataframe thead th {\n",
       "        text-align: right;\n",
       "    }\n",
       "</style>\n",
       "<table border=\"1\" class=\"dataframe\">\n",
       "  <thead>\n",
       "    <tr style=\"text-align: right;\">\n",
       "      <th></th>\n",
       "      <th>loan_amnt</th>\n",
       "      <th>term</th>\n",
       "      <th>emp_length</th>\n",
       "      <th>home_ownership</th>\n",
       "      <th>annual_inc</th>\n",
       "      <th>purpose</th>\n",
       "      <th>dti</th>\n",
       "      <th>delinq_2yrs</th>\n",
       "      <th>cr_hist_age_mths</th>\n",
       "      <th>fico_range_low</th>\n",
       "      <th>...</th>\n",
       "      <th>pub_rec_bankruptcies</th>\n",
       "      <th>tax_liens</th>\n",
       "      <th>tot_hi_cred_lim</th>\n",
       "      <th>total_bal_ex_mort</th>\n",
       "      <th>total_bc_limit</th>\n",
       "      <th>total_il_high_credit_limit</th>\n",
       "      <th>fraction_recovered</th>\n",
       "      <th>issue_d</th>\n",
       "      <th>title</th>\n",
       "      <th>desc</th>\n",
       "    </tr>\n",
       "  </thead>\n",
       "  <tbody>\n",
       "    <tr>\n",
       "      <th>0</th>\n",
       "      <td>3600.0</td>\n",
       "      <td>36 months</td>\n",
       "      <td>10+ years</td>\n",
       "      <td>MORTGAGE</td>\n",
       "      <td>55000.0</td>\n",
       "      <td>debt_consolidation</td>\n",
       "      <td>5.91</td>\n",
       "      <td>0.0</td>\n",
       "      <td>148</td>\n",
       "      <td>675.0</td>\n",
       "      <td>...</td>\n",
       "      <td>0.0</td>\n",
       "      <td>0.0</td>\n",
       "      <td>178050.0</td>\n",
       "      <td>7746.0</td>\n",
       "      <td>2400.0</td>\n",
       "      <td>13734.0</td>\n",
       "      <td>1.0</td>\n",
       "      <td>Dec-2015</td>\n",
       "      <td>Debt consolidation</td>\n",
       "      <td>NaN</td>\n",
       "    </tr>\n",
       "    <tr>\n",
       "      <th>1</th>\n",
       "      <td>24700.0</td>\n",
       "      <td>36 months</td>\n",
       "      <td>10+ years</td>\n",
       "      <td>MORTGAGE</td>\n",
       "      <td>65000.0</td>\n",
       "      <td>small_business</td>\n",
       "      <td>16.06</td>\n",
       "      <td>1.0</td>\n",
       "      <td>192</td>\n",
       "      <td>715.0</td>\n",
       "      <td>...</td>\n",
       "      <td>0.0</td>\n",
       "      <td>0.0</td>\n",
       "      <td>314017.0</td>\n",
       "      <td>39475.0</td>\n",
       "      <td>79300.0</td>\n",
       "      <td>24667.0</td>\n",
       "      <td>1.0</td>\n",
       "      <td>Dec-2015</td>\n",
       "      <td>Business</td>\n",
       "      <td>NaN</td>\n",
       "    </tr>\n",
       "    <tr>\n",
       "      <th>2</th>\n",
       "      <td>20000.0</td>\n",
       "      <td>60 months</td>\n",
       "      <td>10+ years</td>\n",
       "      <td>MORTGAGE</td>\n",
       "      <td>63000.0</td>\n",
       "      <td>home_improvement</td>\n",
       "      <td>10.78</td>\n",
       "      <td>0.0</td>\n",
       "      <td>184</td>\n",
       "      <td>695.0</td>\n",
       "      <td>...</td>\n",
       "      <td>0.0</td>\n",
       "      <td>0.0</td>\n",
       "      <td>218418.0</td>\n",
       "      <td>18696.0</td>\n",
       "      <td>6200.0</td>\n",
       "      <td>14877.0</td>\n",
       "      <td>1.0</td>\n",
       "      <td>Dec-2015</td>\n",
       "      <td>NaN</td>\n",
       "      <td>NaN</td>\n",
       "    </tr>\n",
       "    <tr>\n",
       "      <th>4</th>\n",
       "      <td>10400.0</td>\n",
       "      <td>60 months</td>\n",
       "      <td>3 years</td>\n",
       "      <td>MORTGAGE</td>\n",
       "      <td>104433.0</td>\n",
       "      <td>major_purchase</td>\n",
       "      <td>25.37</td>\n",
       "      <td>1.0</td>\n",
       "      <td>210</td>\n",
       "      <td>695.0</td>\n",
       "      <td>...</td>\n",
       "      <td>0.0</td>\n",
       "      <td>0.0</td>\n",
       "      <td>439570.0</td>\n",
       "      <td>95768.0</td>\n",
       "      <td>20300.0</td>\n",
       "      <td>88097.0</td>\n",
       "      <td>1.0</td>\n",
       "      <td>Dec-2015</td>\n",
       "      <td>Major purchase</td>\n",
       "      <td>NaN</td>\n",
       "    </tr>\n",
       "    <tr>\n",
       "      <th>5</th>\n",
       "      <td>11950.0</td>\n",
       "      <td>36 months</td>\n",
       "      <td>4 years</td>\n",
       "      <td>RENT</td>\n",
       "      <td>34000.0</td>\n",
       "      <td>debt_consolidation</td>\n",
       "      <td>10.20</td>\n",
       "      <td>0.0</td>\n",
       "      <td>338</td>\n",
       "      <td>690.0</td>\n",
       "      <td>...</td>\n",
       "      <td>0.0</td>\n",
       "      <td>0.0</td>\n",
       "      <td>16900.0</td>\n",
       "      <td>12798.0</td>\n",
       "      <td>9400.0</td>\n",
       "      <td>4000.0</td>\n",
       "      <td>1.0</td>\n",
       "      <td>Dec-2015</td>\n",
       "      <td>Debt consolidation</td>\n",
       "      <td>NaN</td>\n",
       "    </tr>\n",
       "  </tbody>\n",
       "</table>\n",
       "<p>5 rows × 69 columns</p>\n",
       "</div>"
      ],
      "text/plain": [
       "   loan_amnt       term emp_length home_ownership  annual_inc  \\\n",
       "0     3600.0  36 months  10+ years       MORTGAGE     55000.0   \n",
       "1    24700.0  36 months  10+ years       MORTGAGE     65000.0   \n",
       "2    20000.0  60 months  10+ years       MORTGAGE     63000.0   \n",
       "4    10400.0  60 months    3 years       MORTGAGE    104433.0   \n",
       "5    11950.0  36 months    4 years           RENT     34000.0   \n",
       "\n",
       "              purpose    dti  delinq_2yrs  cr_hist_age_mths  fico_range_low  \\\n",
       "0  debt_consolidation   5.91          0.0               148           675.0   \n",
       "1      small_business  16.06          1.0               192           715.0   \n",
       "2    home_improvement  10.78          0.0               184           695.0   \n",
       "4      major_purchase  25.37          1.0               210           695.0   \n",
       "5  debt_consolidation  10.20          0.0               338           690.0   \n",
       "\n",
       "   ...  pub_rec_bankruptcies  tax_liens  tot_hi_cred_lim  total_bal_ex_mort  \\\n",
       "0  ...                   0.0        0.0         178050.0             7746.0   \n",
       "1  ...                   0.0        0.0         314017.0            39475.0   \n",
       "2  ...                   0.0        0.0         218418.0            18696.0   \n",
       "4  ...                   0.0        0.0         439570.0            95768.0   \n",
       "5  ...                   0.0        0.0          16900.0            12798.0   \n",
       "\n",
       "   total_bc_limit  total_il_high_credit_limit  fraction_recovered   issue_d  \\\n",
       "0          2400.0                     13734.0                 1.0  Dec-2015   \n",
       "1         79300.0                     24667.0                 1.0  Dec-2015   \n",
       "2          6200.0                     14877.0                 1.0  Dec-2015   \n",
       "4         20300.0                     88097.0                 1.0  Dec-2015   \n",
       "5          9400.0                      4000.0                 1.0  Dec-2015   \n",
       "\n",
       "                title  desc  \n",
       "0  Debt consolidation   NaN  \n",
       "1            Business   NaN  \n",
       "2                 NaN   NaN  \n",
       "4      Major purchase   NaN  \n",
       "5  Debt consolidation   NaN  \n",
       "\n",
       "[5 rows x 69 columns]"
      ]
     },
     "execution_count": 2,
     "metadata": {},
     "output_type": "execute_result"
    }
   ],
   "source": [
    "loans.head()"
   ]
  },
  {
   "cell_type": "markdown",
   "metadata": {
    "papermill": {
     "duration": 0.021568,
     "end_time": "2020-10-13T23:01:41.778269",
     "exception": false,
     "start_time": "2020-10-13T23:01:41.756701",
     "status": "completed"
    },
    "tags": []
   },
   "source": [
    "## Exploratory data analysis\n",
    "\n",
    "There isn't _too_ much exploratory data analysis left to do after how thoroughly I [cleaned the data](https://www.kaggle.com/tywmick/building-a-neural-network-to-predict-loan-risk#Data-cleaning) in my first notebook, but I do have a few quick questions about the `title` and `desc` fields I'd like to answer before I move on.\n",
    "\n",
    "- How many loans use each field?\n",
    "- Have these fields always been included in the loan application?\n",
    "- What is the typical length of each field (in number of words)?"
   ]
  },
  {
   "cell_type": "code",
   "execution_count": 3,
   "metadata": {
    "execution": {
     "iopub.execute_input": "2020-10-13T23:01:41.829622Z",
     "iopub.status.busy": "2020-10-13T23:01:41.828915Z",
     "iopub.status.idle": "2020-10-13T23:01:43.052361Z",
     "shell.execute_reply": "2020-10-13T23:01:43.052859Z"
    },
    "papermill": {
     "duration": 1.252761,
     "end_time": "2020-10-13T23:01:43.053018",
     "exception": false,
     "start_time": "2020-10-13T23:01:41.800257",
     "status": "completed"
    },
    "tags": []
   },
   "outputs": [
    {
     "data": {
      "text/html": [
       "<div>\n",
       "<style scoped>\n",
       "    .dataframe tbody tr th:only-of-type {\n",
       "        vertical-align: middle;\n",
       "    }\n",
       "\n",
       "    .dataframe tbody tr th {\n",
       "        vertical-align: top;\n",
       "    }\n",
       "\n",
       "    .dataframe thead th {\n",
       "        text-align: right;\n",
       "    }\n",
       "</style>\n",
       "<table border=\"1\" class=\"dataframe\">\n",
       "  <thead>\n",
       "    <tr style=\"text-align: right;\">\n",
       "      <th></th>\n",
       "      <th>title</th>\n",
       "      <th>desc</th>\n",
       "    </tr>\n",
       "  </thead>\n",
       "  <tbody>\n",
       "    <tr>\n",
       "      <th>count</th>\n",
       "      <td>1097288</td>\n",
       "      <td>71967</td>\n",
       "    </tr>\n",
       "    <tr>\n",
       "      <th>unique</th>\n",
       "      <td>35863</td>\n",
       "      <td>70927</td>\n",
       "    </tr>\n",
       "    <tr>\n",
       "      <th>top</th>\n",
       "      <td>Debt consolidation</td>\n",
       "      <td></td>\n",
       "    </tr>\n",
       "    <tr>\n",
       "      <th>freq</th>\n",
       "      <td>573992</td>\n",
       "      <td>23</td>\n",
       "    </tr>\n",
       "  </tbody>\n",
       "</table>\n",
       "</div>"
      ],
      "text/plain": [
       "                     title   desc\n",
       "count              1097288  71967\n",
       "unique               35863  70927\n",
       "top     Debt consolidation       \n",
       "freq                573992     23"
      ]
     },
     "execution_count": 3,
     "metadata": {},
     "output_type": "execute_result"
    }
   ],
   "source": [
    "nlp_cols = [\"title\", \"desc\"]\n",
    "\n",
    "loans[nlp_cols].describe()"
   ]
  },
  {
   "cell_type": "markdown",
   "metadata": {
    "papermill": {
     "duration": 0.022035,
     "end_time": "2020-10-13T23:01:43.098214",
     "exception": false,
     "start_time": "2020-10-13T23:01:43.076179",
     "status": "completed"
    },
    "tags": []
   },
   "source": [
    "If the most frequent `desc` value is empty (or maybe just whitespace), perhaps I need to convert all empty or whitespace-only values to `NaN` before continuing."
   ]
  },
  {
   "cell_type": "code",
   "execution_count": 4,
   "metadata": {
    "execution": {
     "iopub.execute_input": "2020-10-13T23:01:43.149911Z",
     "iopub.status.busy": "2020-10-13T23:01:43.149279Z",
     "iopub.status.idle": "2020-10-13T23:01:45.290058Z",
     "shell.execute_reply": "2020-10-13T23:01:45.289481Z"
    },
    "papermill": {
     "duration": 2.169625,
     "end_time": "2020-10-13T23:01:45.290216",
     "exception": false,
     "start_time": "2020-10-13T23:01:43.120591",
     "status": "completed"
    },
    "tags": []
   },
   "outputs": [
    {
     "data": {
      "text/html": [
       "<div>\n",
       "<style scoped>\n",
       "    .dataframe tbody tr th:only-of-type {\n",
       "        vertical-align: middle;\n",
       "    }\n",
       "\n",
       "    .dataframe tbody tr th {\n",
       "        vertical-align: top;\n",
       "    }\n",
       "\n",
       "    .dataframe thead th {\n",
       "        text-align: right;\n",
       "    }\n",
       "</style>\n",
       "<table border=\"1\" class=\"dataframe\">\n",
       "  <thead>\n",
       "    <tr style=\"text-align: right;\">\n",
       "      <th></th>\n",
       "      <th>title</th>\n",
       "      <th>desc</th>\n",
       "    </tr>\n",
       "  </thead>\n",
       "  <tbody>\n",
       "    <tr>\n",
       "      <th>count</th>\n",
       "      <td>1097288</td>\n",
       "      <td>71943</td>\n",
       "    </tr>\n",
       "    <tr>\n",
       "      <th>unique</th>\n",
       "      <td>35863</td>\n",
       "      <td>70925</td>\n",
       "    </tr>\n",
       "    <tr>\n",
       "      <th>top</th>\n",
       "      <td>Debt consolidation</td>\n",
       "      <td>Borrower added on 03/17/14 &gt; Debt consolidat...</td>\n",
       "    </tr>\n",
       "    <tr>\n",
       "      <th>freq</th>\n",
       "      <td>573992</td>\n",
       "      <td>9</td>\n",
       "    </tr>\n",
       "  </tbody>\n",
       "</table>\n",
       "</div>"
      ],
      "text/plain": [
       "                     title                                               desc\n",
       "count              1097288                                              71943\n",
       "unique               35863                                              70925\n",
       "top     Debt consolidation    Borrower added on 03/17/14 > Debt consolidat...\n",
       "freq                573992                                                  9"
      ]
     },
     "execution_count": 4,
     "metadata": {},
     "output_type": "execute_result"
    }
   ],
   "source": [
    "import re\n",
    "import numpy as np\n",
    "\n",
    "for col in nlp_cols:\n",
    "    replace_empties = lambda x: x if re.search(\"\\S\", x) else np.NaN\n",
    "    loans[col] = loans[col].map(replace_empties, na_action=\"ignore\")\n",
    "\n",
    "description = loans[nlp_cols].describe()\n",
    "description"
   ]
  },
  {
   "cell_type": "markdown",
   "metadata": {
    "papermill": {
     "duration": 0.022442,
     "end_time": "2020-10-13T23:01:45.335811",
     "exception": false,
     "start_time": "2020-10-13T23:01:45.313369",
     "status": "completed"
    },
    "tags": []
   },
   "source": [
    "Thankfully that didn't remove too many values, but this \"Borrower added on [date]\" deal worries me now. I'll deal with that a little later."
   ]
  },
  {
   "cell_type": "code",
   "execution_count": 5,
   "metadata": {
    "execution": {
     "iopub.execute_input": "2020-10-13T23:01:45.389183Z",
     "iopub.status.busy": "2020-10-13T23:01:45.388469Z",
     "iopub.status.idle": "2020-10-13T23:01:45.393059Z",
     "shell.execute_reply": "2020-10-13T23:01:45.392406Z"
    },
    "papermill": {
     "duration": 0.034533,
     "end_time": "2020-10-13T23:01:45.393182",
     "exception": false,
     "start_time": "2020-10-13T23:01:45.358649",
     "status": "completed"
    },
    "tags": []
   },
   "outputs": [
    {
     "name": "stdout",
     "output_type": "stream",
     "text": [
      "`title` is used in 98% of loans in the dataset.\n",
      "`desc` is used in 6% of loans in the dataset.\n",
      "The title \"Debt consolidation\" is used in 51% of loans.\n"
     ]
    }
   ],
   "source": [
    "for col in nlp_cols:\n",
    "    percentage = int(description.at[\"count\", col] / num_loans * 100)\n",
    "    print(f\"`{col}` is used in {percentage}% of loans in the dataset.\")\n",
    "\n",
    "percentage = int(description.at[\"freq\", \"title\"] / num_loans * 100)\n",
    "print(f'The title \"Debt consolidation\" is used in {percentage}% of loans.')"
   ]
  },
  {
   "cell_type": "markdown",
   "metadata": {
    "papermill": {
     "duration": 0.022927,
     "end_time": "2020-10-13T23:01:45.439424",
     "exception": false,
     "start_time": "2020-10-13T23:01:45.416497",
     "status": "completed"
    },
    "tags": []
   },
   "source": [
    "These fields may not be as useful as I had previously thought. Even though there are 35,860 unique titles used across the dataset, 51% of them just use \"Debt consolidation\". Maybe the titles are more descriptive in the other 49%?\n",
    "\n",
    "And the `desc` field is only used with 6% of loans.\n",
    "\n",
    "Now to check and see when these fields were introduced."
   ]
  },
  {
   "cell_type": "code",
   "execution_count": 6,
   "metadata": {
    "execution": {
     "iopub.execute_input": "2020-10-13T23:01:45.553563Z",
     "iopub.status.busy": "2020-10-13T23:01:45.552637Z",
     "iopub.status.idle": "2020-10-13T23:01:46.022103Z",
     "shell.execute_reply": "2020-10-13T23:01:46.021423Z"
    },
    "papermill": {
     "duration": 0.559507,
     "end_time": "2020-10-13T23:01:46.022228",
     "exception": false,
     "start_time": "2020-10-13T23:01:45.462721",
     "status": "completed"
    },
    "tags": []
   },
   "outputs": [
    {
     "name": "stdout",
     "output_type": "stream",
     "text": [
      "Total date range:\n",
      "min   2012-08-01\n",
      "max   2018-12-01\n",
      "Name: issue_d, dtype: datetime64[ns]\n",
      "\n",
      "`title` date range:\n",
      "min   2012-08-01\n",
      "max   2018-12-01\n",
      "Name: issue_d, dtype: datetime64[ns]\n",
      "\n",
      "`desc` date range:\n",
      "min   2012-08-01\n",
      "max   2016-07-01\n",
      "Name: issue_d, dtype: datetime64[ns]\n"
     ]
    }
   ],
   "source": [
    "# `issue_d` is just the month and year the loan was issued, by the way.\n",
    "loans[\"issue_d\"] = loans[\"issue_d\"].astype(\"datetime64[ns]\")\n",
    "\n",
    "print(\"Total date range:\")\n",
    "print(loans[\"issue_d\"].agg([\"min\", \"max\"]))\n",
    "print(\"\\n`title` date range:\")\n",
    "print(loans[[\"title\", \"issue_d\"]].dropna(axis=\"index\")[\"issue_d\"].agg([\"min\", \"max\"]))\n",
    "print(\"\\n`desc` date range:\")\n",
    "print(loans[[\"desc\", \"issue_d\"]].dropna(axis=\"index\")[\"issue_d\"].agg([\"min\", \"max\"]))"
   ]
  },
  {
   "cell_type": "markdown",
   "metadata": {
    "papermill": {
     "duration": 0.023982,
     "end_time": "2020-10-13T23:01:46.070354",
     "exception": false,
     "start_time": "2020-10-13T23:01:46.046372",
     "status": "completed"
    },
    "tags": []
   },
   "source": [
    "Neither of these fields were introduced late, but they may have stopped using the `desc` field for the last two years of the database.\n",
    "\n",
    "Now I'll take a closer look at values in these fields."
   ]
  },
  {
   "cell_type": "code",
   "execution_count": 7,
   "metadata": {
    "execution": {
     "iopub.execute_input": "2020-10-13T23:01:46.175488Z",
     "iopub.status.busy": "2020-10-13T23:01:46.174741Z",
     "iopub.status.idle": "2020-10-13T23:01:46.239723Z",
     "shell.execute_reply": "2020-10-13T23:01:46.240373Z"
    },
    "papermill": {
     "duration": 0.146072,
     "end_time": "2020-10-13T23:01:46.240523",
     "exception": false,
     "start_time": "2020-10-13T23:01:46.094451",
     "status": "completed"
    },
    "tags": []
   },
   "outputs": [
    {
     "name": "stdout",
     "output_type": "stream",
     "text": [
      "Debt consolidation                       573992\n",
      "Credit card refinancing                  214423\n",
      "Home improvement                          64028\n",
      "Other                                     56166\n",
      "Major purchase                            20734\n",
      "Medical expenses                          11454\n",
      "Debt Consolidation                        10638\n",
      "Business                                  10142\n",
      "Car financing                              9660\n",
      "Moving and relocation                      6806\n",
      "Vacation                                   6707\n",
      "Home buying                                5097\n",
      "Consolidation                              4069\n",
      "debt consolidation                         3310\n",
      "Credit Card Consolidation                  1607\n",
      "consolidation                              1538\n",
      "Debt Consolidation Loan                    1265\n",
      "Consolidation Loan                         1260\n",
      "Personal Loan                              1040\n",
      "Credit Card Refinance                      1020\n",
      "Home Improvement                           1016\n",
      "Credit Card Payoff                          991\n",
      "Consolidate                                 947\n",
      "Green loan                                  626\n",
      "Loan                                        621\n",
      "                                          ...  \n",
      "House Buying Consolidation                    1\n",
      "Credit Card Deby                              1\n",
      "Crdit cards                                   1\n",
      "\"CCC\"                                         1\n",
      "Loan to Moving & Relocation Expense           1\n",
      "BILL PAYMENT                                  1\n",
      "creit card pay off                            1\n",
      "Auto Repair & Debt Consolidation              1\n",
      "BMW 2004                                      1\n",
      "Moving Expenses - STL to PHX                  1\n",
      " Pay off Bills                                1\n",
      "Room addition                                 1\n",
      "Optimistic                                    1\n",
      "Consolid_loan2                                1\n",
      "ASSISTANCE NEEDED                             1\n",
      "My bail out                                   1\n",
      "myfirstloan                                   1\n",
      "second home                                   1\n",
      "Just consolidating credit cards               1\n",
      "Financially Sound Loan                        1\n",
      "refinance loans and home improvements         1\n",
      "credit cart refincition                       1\n",
      "Managable Repayment Plan                      1\n",
      "ccdebit                                       1\n",
      "Project Pay Off Debt                          1\n",
      "Name: title, Length: 35863, dtype: int64\n"
     ]
    }
   ],
   "source": [
    "import pandas as pd\n",
    "\n",
    "with pd.option_context(\"display.min_rows\", 50):\n",
    "    print(loans[\"title\"].value_counts())"
   ]
  },
  {
   "cell_type": "markdown",
   "metadata": {
    "papermill": {
     "duration": 0.024299,
     "end_time": "2020-10-13T23:01:46.289188",
     "exception": false,
     "start_time": "2020-10-13T23:01:46.264889",
     "status": "completed"
    },
    "tags": []
   },
   "source": [
    "Interesting. It seems like there's plenty of variety in loan titles in the other 49%. A lot of them seem to directly correspond to the `purpose` categorical field, but not so many as to make this field useless, I think.\n",
    "\n",
    "Side note: I discovered at one point when perusing this column that someone entered the [Konami Code](https://en.wikipedia.org/wiki/Konami_Code) as the title of their loan application, and their inclusion in this dataset means that the code apparently worked for them—they got the loan."
   ]
  },
  {
   "cell_type": "code",
   "execution_count": 8,
   "metadata": {
    "execution": {
     "iopub.execute_input": "2020-10-13T23:01:46.405433Z",
     "iopub.status.busy": "2020-10-13T23:01:46.404465Z",
     "iopub.status.idle": "2020-10-13T23:01:46.416464Z",
     "shell.execute_reply": "2020-10-13T23:01:46.415959Z"
    },
    "papermill": {
     "duration": 0.10278,
     "end_time": "2020-10-13T23:01:46.416586",
     "exception": false,
     "start_time": "2020-10-13T23:01:46.313806",
     "status": "completed"
    },
    "tags": []
   },
   "outputs": [
    {
     "data": {
      "text/html": [
       "<div>\n",
       "<style scoped>\n",
       "    .dataframe tbody tr th:only-of-type {\n",
       "        vertical-align: middle;\n",
       "    }\n",
       "\n",
       "    .dataframe tbody tr th {\n",
       "        vertical-align: top;\n",
       "    }\n",
       "\n",
       "    .dataframe thead th {\n",
       "        text-align: right;\n",
       "    }\n",
       "</style>\n",
       "<table border=\"1\" class=\"dataframe\">\n",
       "  <thead>\n",
       "    <tr style=\"text-align: right;\">\n",
       "      <th></th>\n",
       "      <th>loan_amnt</th>\n",
       "      <th>title</th>\n",
       "      <th>issue_d</th>\n",
       "    </tr>\n",
       "  </thead>\n",
       "  <tbody>\n",
       "    <tr>\n",
       "      <th>1856340</th>\n",
       "      <td>12000.0</td>\n",
       "      <td>up up down down left right left right ba</td>\n",
       "      <td>2013-04-01</td>\n",
       "    </tr>\n",
       "  </tbody>\n",
       "</table>\n",
       "</div>"
      ],
      "text/plain": [
       "         loan_amnt                                     title    issue_d\n",
       "1856340    12000.0  up up down down left right left right ba 2013-04-01"
      ]
     },
     "execution_count": 8,
     "metadata": {},
     "output_type": "execute_result"
    }
   ],
   "source": [
    "loans[loans[\"title\"] == \"up up down down left right left right ba\"][\n",
    "    [\"loan_amnt\", \"title\", \"issue_d\"]\n",
    "]"
   ]
  },
  {
   "cell_type": "code",
   "execution_count": 9,
   "metadata": {
    "execution": {
     "iopub.execute_input": "2020-10-13T23:01:46.513158Z",
     "iopub.status.busy": "2020-10-13T23:01:46.512426Z",
     "iopub.status.idle": "2020-10-13T23:01:46.594417Z",
     "shell.execute_reply": "2020-10-13T23:01:46.594924Z"
    },
    "papermill": {
     "duration": 0.154425,
     "end_time": "2020-10-13T23:01:46.595087",
     "exception": false,
     "start_time": "2020-10-13T23:01:46.440662",
     "status": "completed"
    },
    "tags": []
   },
   "outputs": [
    {
     "data": {
      "text/plain": [
       "  Borrower added on 03/17/14 > Debt consolidation<br>                                                                                                                                                                                                                                        9\n",
       "  Borrower added on 01/15/14 > Debt consolidation<br>                                                                                                                                                                                                                                        7\n",
       "  Borrower added on 02/19/14 > Debt consolidation<br>                                                                                                                                                                                                                                        7\n",
       "  Borrower added on 03/10/14 > Debt consolidation<br>                                                                                                                                                                                                                                        7\n",
       "  Borrower added on 01/29/14 > Debt consolidation<br>                                                                                                                                                                                                                                        7\n",
       "                                                                                                                                                                                                                                                                                            ..\n",
       "  Borrower added on 01/14/13 > Credit Card consolidation<br>                                                                                                                                                                                                                                 1\n",
       "  Borrower added on 03/14/14 > Debts consolidation and cash for minor improvements on condominium<br>                                                                                                                                                                                        1\n",
       "  Borrower added on 03/02/14 > I lost a house and need to pay taxes nd have credit card debt thatI already pay $350 a month on and it goes nowhere.<br>                                                                                                                                      1\n",
       "  Borrower added on 04/09/13 > I want to put in a conscious effort in eliminating my debt by converting high interest cards to a fixed payment that can be effectively managed by me.<br>                                                                                                    1\n",
       "  Borrower added on 09/18/12 > Want to become debt free, because of several circumstances and going back to school I got into debt. I want to pay for what I have purchased without it having an effect on my credit. That is why I want to consolidate my debt and become debt free!<br>    1\n",
       "Name: desc, Length: 70925, dtype: int64"
      ]
     },
     "execution_count": 9,
     "metadata": {},
     "output_type": "execute_result"
    }
   ],
   "source": [
    "loans[\"desc\"].value_counts()"
   ]
  },
  {
   "cell_type": "markdown",
   "metadata": {
    "papermill": {
     "duration": 0.024499,
     "end_time": "2020-10-13T23:01:46.644363",
     "exception": false,
     "start_time": "2020-10-13T23:01:46.619864",
     "status": "completed"
    },
    "tags": []
   },
   "source": [
    "Do all these descriptions start with \"Borrower added on [date]\"?"
   ]
  },
  {
   "cell_type": "code",
   "execution_count": 10,
   "metadata": {
    "execution": {
     "iopub.execute_input": "2020-10-13T23:01:46.701857Z",
     "iopub.status.busy": "2020-10-13T23:01:46.701214Z",
     "iopub.status.idle": "2020-10-13T23:01:47.112759Z",
     "shell.execute_reply": "2020-10-13T23:01:47.113406Z"
    },
    "papermill": {
     "duration": 0.443155,
     "end_time": "2020-10-13T23:01:47.113553",
     "exception": false,
     "start_time": "2020-10-13T23:01:46.670398",
     "status": "completed"
    },
    "tags": []
   },
   "outputs": [
    {
     "name": "stdout",
     "output_type": "stream",
     "text": [
      "71,858 loan descriptions begin with that pattern. (85 do not.)\n"
     ]
    }
   ],
   "source": [
    "pattern = \"^\\s*Borrower added on \\d\\d/\\d\\d/\\d\\d > \"\n",
    "prefix_count = (\n",
    "    loans[\"desc\"]\n",
    "    .map(lambda x: True if re.search(pattern, x, re.I) else None, na_action=\"ignore\")\n",
    "    .count()\n",
    ")\n",
    "print(\n",
    "    f\"{prefix_count:,} loan descriptions begin with that pattern.\",\n",
    "    f\"({description.loc['count', 'desc'] - prefix_count:,} do not.)\",\n",
    ")"
   ]
  },
  {
   "cell_type": "markdown",
   "metadata": {
    "papermill": {
     "duration": 0.025535,
     "end_time": "2020-10-13T23:01:47.164491",
     "exception": false,
     "start_time": "2020-10-13T23:01:47.138956",
     "status": "completed"
    },
    "tags": []
   },
   "source": [
    "Well now I need to check those other 85."
   ]
  },
  {
   "cell_type": "code",
   "execution_count": 11,
   "metadata": {
    "execution": {
     "iopub.execute_input": "2020-10-13T23:01:47.221720Z",
     "iopub.status.busy": "2020-10-13T23:01:47.221074Z",
     "iopub.status.idle": "2020-10-13T23:01:48.056724Z",
     "shell.execute_reply": "2020-10-13T23:01:48.056163Z"
    },
    "papermill": {
     "duration": 0.866555,
     "end_time": "2020-10-13T23:01:48.056832",
     "exception": false,
     "start_time": "2020-10-13T23:01:47.190277",
     "status": "completed"
    },
    "tags": []
   },
   "outputs": [
    {
     "data": {
      "text/plain": [
       "Debt Consolidation                                                                                                                                                                                                                                                                                                                                                                                                                                                                                                                                                                                                                                                                                                                                                                                                                                                                                                                                                                                                                                                                                                                                                                                                 2\n",
       "I would like to pay off 3 different credit cards, at 12%, 17% and 22% (after initial 0% period is up).  It would be great to have everything under one loan, making it easier to pay off.  Also, once I've paid off or down the loan, I can start looking into buying a house.                                                                                                                                                                                                                                                                                                                                                                                                                                                                                                                                                                                                                                                                                                                                                                                                                                                                                                                                     1\n",
       "loan will be used for paying off credit card.                                                                                                                                                                                                                                                                                                                                                                                                                                                                                                                                                                                                                                                                                                                                                                                                                                                                                                                                                                                                                                                                                                                                                                      1\n",
       "This loan will be used to consolidate high interest credit card debt.    Over the course of this past year my wife and I had our first child, purchase a home and received a large bonus from work.  With the new home and the child on the way I chose to spread my tax withholdings on the bonus to all checks received in 2008 this caused my monthly income to fall by $1500.  This in combination with an unexpected additional down payment for our home of $17,000 with only a weeks notice we were force to dip into our Credit Cards for the past several months.    Starting January 1, 2009 I will be able to readjust my tax withholding and start to pay off the Credit Card debt we have racked up.  This loan will help lower the interest rate during the repayment period and give one central place for payment.  My wife and I have not missed a payment or been late for the past 5 years.  My fico score is 670 mainly due to several low limit credit cards near their max.  I manage the international devision of a software company and my wife is a kindergarten teacher, combined we make 140K a year.    Thank you for your consideration and I look forward to working with you.      1\n",
       "to pay off different credit cards to consolidate my debt, so I can have just one monthly payment.                                                                                                                                                                                                                                                                                                                                                                                                                                                                                                                                                                                                                                                                                                                                                                                                                                                                                                                                                                                                                                                                                                                  1\n",
       "                                                                                                                                                                                                                                                                                                                                                                                                                                                                                                                                                                                                                                                                                                                                                                                                                                                                                                                                                                                                                                                                                                                                                                                                                  ..\n",
       "Hello, I would like to consolidate my debt into a lower more convenient payment. I have a very stable career of more than 20 years with the same company. My community is in a part of the country that made it through the last few years basically unscathed and has a very promising future.<br>Thank You<br>                                                                                                                                                                                                                                                                                                                                                                                                                                                                                                                                                                                                                                                                                                                                                                                                                                                                                                   1\n",
       "consolidate my debt                                                                                                                                                                                                                                                                                                                                                                                                                                                                                                                                                                                                                                                                                                                                                                                                                                                                                                                                                                                                                                                                                                                                                                                                1\n",
       "I am looking to pay off my credit card debts.                                                                                                                                                                                                                                                                                                                                                                                                                                                                                                                                                                                                                                                                                                                                                                                                                                                                                                                                                                                                                                                                                                                                                                      1\n",
       "This loan is to help me payoff my credit card debt. I've done what I can to negotiate lower rates, but the interest is killing me and my monthly payments are basically just taking care of interest. Paying them off will give me the fresh start I need on my way to financial independence. Thank you.                                                                                                                                                                                                                                                                                                                                                                                                                                                                                                                                                                                                                                                                                                                                                                                                                                                                                                          1\n",
       "I have been in business for a year and want to eliminate some personal debt and use the remainder of the loan to take care of business expenses. Also lessening the number of trade lines I have open puts me in a better position to pursue business loans since it will  be based on my personal credit. A detailed report can be created to show where exactly the funds will go and this can be provided at any time during the course of the loan.                                                                                                                                                                                                                                                                                                                                                                                                                                                                                                                                                                                                                                                                                                                                                            1\n",
       "Name: desc, Length: 84, dtype: int64"
      ]
     },
     "execution_count": 11,
     "metadata": {},
     "output_type": "execute_result"
    }
   ],
   "source": [
    "other_desc_map = loans[\"desc\"].map(\n",
    "    lambda x: False if pd.isna(x) or re.search(pattern, x, re.I) else True\n",
    ")\n",
    "other_descs = loans[\"desc\"][other_desc_map]\n",
    "other_descs.value_counts()"
   ]
  },
  {
   "cell_type": "markdown",
   "metadata": {
    "papermill": {
     "duration": 0.02515,
     "end_time": "2020-10-13T23:01:48.108401",
     "exception": false,
     "start_time": "2020-10-13T23:01:48.083251",
     "status": "completed"
    },
    "tags": []
   },
   "source": [
    "It looks like the borrower may be able to add information to the description at different points in time. I should check and see if any of those dates come after the actual issue date of the loan."
   ]
  },
  {
   "cell_type": "code",
   "execution_count": 12,
   "metadata": {
    "execution": {
     "iopub.execute_input": "2020-10-13T23:01:48.169352Z",
     "iopub.status.busy": "2020-10-13T23:01:48.168672Z",
     "iopub.status.idle": "2020-10-13T23:01:52.728511Z",
     "shell.execute_reply": "2020-10-13T23:01:52.727910Z"
    },
    "papermill": {
     "duration": 4.594654,
     "end_time": "2020-10-13T23:01:52.728627",
     "exception": false,
     "start_time": "2020-10-13T23:01:48.133973",
     "status": "completed"
    },
    "tags": []
   },
   "outputs": [
    {
     "name": "stdout",
     "output_type": "stream",
     "text": [
      "2014-01-01 00:00:00 –   Borrower added on 01/08/14 > I am tired of making monthly payments and getting nowhere.  With your help, except for my mortgage, I intend to be completely debt free by 12/31/2016.<br>\n",
      "2014-01-01 00:00:00 –   Borrower added on 01/08/14 > We have been engaged for  2 1/2yrs and wanted to bring out blended family together as one. We are set to get married on 03/22/14 and we are paying for it on our own. We saved the majority of the budget unfortunately there were a few unexpected cost that we still need help with.<br>\n",
      "2014-01-01 00:00:00 –   Borrower added on 01/06/14 > I am getting married 04/05/2014 and I want to have a cushion for expenses just in case.<br>\n",
      "2014-01-01 00:00:00 – BR called in to push payment date to 09/19/14 because of not having the exact amount of funds in their bank account.  Payment was processing. Was able to cancel. It is within grace period. \n",
      "2014-01-01 00:00:00 –   Borrower added on 01/01/14 > This loan is to consolidate my credit cards debt. I made one year this past  11/28/2013 at my current job. I considered to have job security because I'm a good employee. I make all may credit cards payments on time.<br>\n",
      "2013-05-01 00:00:00 –   Borrower added on 04/27/13 > My father passed away 05/12/2012 and I had to pay for the funeral.  My mother could not afford it.  He was not ill so I could not have planned it.  I paid with what I had in my savings and the rest I had to pay with my credit cards.  I would like to pay off the CC &amp; pay one monthly payment.<br><br>  Borrower added on 04/27/13 > My paerents own the house so I do not pay rent.    The utilities, insurance and taxes, etc my mother pays.  She can afford that.  I help when needed.<br>\n",
      "2013-02-01 00:00:00 –   Borrower added on 02/10/13 > I am getting married in a week (02/17/2013) and have made some large purchases across my credit cards.  I would like to consolidate all of my debt with this low rate loan.<br><br> Borrower added on 02/10/13 > I will be getting married in a week (02/17/13) and have had to make some large purchases on my CC. I am financially sound otherwise with low debt obligations.<br>\n",
      "2012-12-01 00:00:00 –   Borrower added on 12/10/12 > Approximately 1 year ago I had a highefficency furnace /AC installed.  The installing Co. used GECRB to get me a loan.  If I payoff the loan within one year, I pay no interest.  The interest rate if not payed by 12/23/2012 is 26.99%.  A 6.62% rate sounds a lot better.<br>\n",
      "2012-11-01 00:00:00 –   Borrower added on 11/19/12 > Looking to finish off consolidating the rest of my bills and lower my payments on my exsisting loan. Thanks!!!<br><br>  Borrower added on 11/20/12 > Thanks again for everyone who has invested thus far. With this loan it will give me the ability to have only one payment monthly besides utilities and I will be almost debt free by my wedding date of 12/13/14!! Thanks again everyone!<br>\n",
      "2012-10-01 00:00:00 –   Borrower added on 10/22/12 > Need money by 10/26/2012 to purchase property on discounted APR.<br>\n"
     ]
    }
   ],
   "source": [
    "from datetime import datetime, date\n",
    "\n",
    "for row in loans[[\"desc\", \"issue_d\"]].itertuples():\n",
    "    if not pd.isna(row.desc):\n",
    "        month_after_issue = date(\n",
    "            day=row.issue_d.day,\n",
    "            month=row.issue_d.month % 12 + 1,\n",
    "            year=row.issue_d.year + row.issue_d.month // 12,\n",
    "        )\n",
    "\n",
    "        date_strings = re.findall(\"\\d\\d/\\d\\d/\\d\\d\", row.desc)\n",
    "        dates = []\n",
    "        for string in date_strings:\n",
    "            try:\n",
    "                dates.append(datetime.strptime(string, \"%m/%d/%y\").date())\n",
    "            except:\n",
    "                continue\n",
    "\n",
    "        for d in dates:\n",
    "            if d >= month_after_issue:\n",
    "                print(f\"{row.issue_d} – {row.desc}\")\n",
    "                break"
   ]
  },
  {
   "cell_type": "markdown",
   "metadata": {
    "papermill": {
     "duration": 0.027581,
     "end_time": "2020-10-13T23:01:52.785304",
     "exception": false,
     "start_time": "2020-10-13T23:01:52.757723",
     "status": "completed"
    },
    "tags": []
   },
   "source": [
    "Good, all of the dates that come after the month the loan is issued only come up because the borrower is talking about a future event.\n",
    "\n",
    "Now to clean these `desc` values up a bit I'm going to remove the `Borrower added on [date] >`s and the `<br>`s, since those don't add value to the description content."
   ]
  },
  {
   "cell_type": "code",
   "execution_count": 13,
   "metadata": {
    "execution": {
     "iopub.execute_input": "2020-10-13T23:01:52.845764Z",
     "iopub.status.busy": "2020-10-13T23:01:52.845103Z",
     "iopub.status.idle": "2020-10-13T23:01:54.096351Z",
     "shell.execute_reply": "2020-10-13T23:01:54.095645Z"
    },
    "papermill": {
     "duration": 1.284187,
     "end_time": "2020-10-13T23:01:54.096473",
     "exception": false,
     "start_time": "2020-10-13T23:01:52.812286",
     "status": "completed"
    },
    "tags": []
   },
   "outputs": [],
   "source": [
    "def clean_desc(desc):\n",
    "    if pd.isna(desc):\n",
    "        return desc\n",
    "    else:\n",
    "        return re.sub(\n",
    "            \"\\s*Borrower added on \\d\\d/\\d\\d/\\d\\d > |<br>\", lambda x: \" \", desc\n",
    "        ).strip()\n",
    "\n",
    "\n",
    "loans[\"desc\"] = loans[\"desc\"].map(clean_desc)"
   ]
  },
  {
   "cell_type": "markdown",
   "metadata": {
    "papermill": {
     "duration": 0.027604,
     "end_time": "2020-10-13T23:01:54.151375",
     "exception": false,
     "start_time": "2020-10-13T23:01:54.123771",
     "status": "completed"
    },
    "tags": []
   },
   "source": [
    "## Imputing missing values\n",
    "\n",
    "Since only 2% of loans in this set are missing a title, and since most titles simply copy the loan's `purpose`, I'm going to impute missing titles with their loan's purpose."
   ]
  },
  {
   "cell_type": "code",
   "execution_count": 14,
   "metadata": {
    "execution": {
     "iopub.execute_input": "2020-10-13T23:01:54.211766Z",
     "iopub.status.busy": "2020-10-13T23:01:54.211077Z",
     "iopub.status.idle": "2020-10-13T23:01:54.869260Z",
     "shell.execute_reply": "2020-10-13T23:01:54.868698Z"
    },
    "papermill": {
     "duration": 0.691083,
     "end_time": "2020-10-13T23:01:54.869387",
     "exception": false,
     "start_time": "2020-10-13T23:01:54.178304",
     "status": "completed"
    },
    "tags": []
   },
   "outputs": [],
   "source": [
    "loans[\"title\"].fillna(\n",
    "    loans[\"purpose\"].map(lambda x: x.replace(\"_\", \" \").capitalize()), inplace=True\n",
    ")"
   ]
  },
  {
   "cell_type": "markdown",
   "metadata": {
    "papermill": {
     "duration": 0.026844,
     "end_time": "2020-10-13T23:01:54.923722",
     "exception": false,
     "start_time": "2020-10-13T23:01:54.896878",
     "status": "completed"
    },
    "tags": []
   },
   "source": [
    "Since only 6% of loans _use_ a description, I'll just impute missing descriptions with an empty string. I'm going to wait and include that as a pipeline step a little later, though.\n",
    "\n",
    "## Optimizing data types\n",
    "\n",
    "I'd really love to get right to the fun part, converting these text fields into document vectors, but I ran into a problem the first several times I tried doing so. Manually adding two sets of 300-dimensional vectors to this 1,110,171-row DataFrame caused its size in memory to skyrocket, exhausting the 16GB Kaggle gives me.\n",
    "\n",
    "My first attempt to fix this was optimizing my data types, which still didn't solve the problem on its own, but it's a worthwhile step to take anyway.\n",
    "\n",
    "After removing the `issue_d` column, which is no longer needed, the dataset contains five types of data: float, integer, ordinal, (unordered) categorical, and text."
   ]
  },
  {
   "cell_type": "code",
   "execution_count": 15,
   "metadata": {
    "execution": {
     "iopub.execute_input": "2020-10-13T23:01:55.192572Z",
     "iopub.status.busy": "2020-10-13T23:01:55.153690Z",
     "iopub.status.idle": "2020-10-13T23:02:03.660456Z",
     "shell.execute_reply": "2020-10-13T23:02:03.660960Z"
    },
    "papermill": {
     "duration": 8.710274,
     "end_time": "2020-10-13T23:02:03.661121",
     "exception": false,
     "start_time": "2020-10-13T23:01:54.950847",
     "status": "completed"
    },
    "tags": []
   },
   "outputs": [
    {
     "name": "stdout",
     "output_type": "stream",
     "text": [
      "Reduced DataFrame size in memory by 69%.\n"
     ]
    },
    {
     "data": {
      "text/html": [
       "<div>\n",
       "<style scoped>\n",
       "    .dataframe tbody tr th:only-of-type {\n",
       "        vertical-align: middle;\n",
       "    }\n",
       "\n",
       "    .dataframe tbody tr th {\n",
       "        vertical-align: top;\n",
       "    }\n",
       "\n",
       "    .dataframe thead th {\n",
       "        text-align: right;\n",
       "    }\n",
       "</style>\n",
       "<table border=\"1\" class=\"dataframe\">\n",
       "  <thead>\n",
       "    <tr style=\"text-align: right;\">\n",
       "      <th></th>\n",
       "      <th>previous_dtype</th>\n",
       "      <th>previous_size</th>\n",
       "      <th>current_dtype</th>\n",
       "      <th>current_size</th>\n",
       "    </tr>\n",
       "  </thead>\n",
       "  <tbody>\n",
       "    <tr>\n",
       "      <th>loan_amnt</th>\n",
       "      <td>float64</td>\n",
       "      <td>8881368</td>\n",
       "      <td>uint16</td>\n",
       "      <td>2220342</td>\n",
       "    </tr>\n",
       "    <tr>\n",
       "      <th>term</th>\n",
       "      <td>object</td>\n",
       "      <td>73271286</td>\n",
       "      <td>category</td>\n",
       "      <td>1110383</td>\n",
       "    </tr>\n",
       "    <tr>\n",
       "      <th>emp_length</th>\n",
       "      <td>object</td>\n",
       "      <td>71853397</td>\n",
       "      <td>category</td>\n",
       "      <td>1111197</td>\n",
       "    </tr>\n",
       "    <tr>\n",
       "      <th>home_ownership</th>\n",
       "      <td>object</td>\n",
       "      <td>69841784</td>\n",
       "      <td>category</td>\n",
       "      <td>1110700</td>\n",
       "    </tr>\n",
       "    <tr>\n",
       "      <th>annual_inc</th>\n",
       "      <td>float64</td>\n",
       "      <td>8881368</td>\n",
       "      <td>float32</td>\n",
       "      <td>4440684</td>\n",
       "    </tr>\n",
       "    <tr>\n",
       "      <th>purpose</th>\n",
       "      <td>object</td>\n",
       "      <td>79927721</td>\n",
       "      <td>category</td>\n",
       "      <td>1111750</td>\n",
       "    </tr>\n",
       "    <tr>\n",
       "      <th>dti</th>\n",
       "      <td>float64</td>\n",
       "      <td>8881368</td>\n",
       "      <td>float32</td>\n",
       "      <td>4440684</td>\n",
       "    </tr>\n",
       "    <tr>\n",
       "      <th>delinq_2yrs</th>\n",
       "      <td>float64</td>\n",
       "      <td>8881368</td>\n",
       "      <td>uint8</td>\n",
       "      <td>1110171</td>\n",
       "    </tr>\n",
       "    <tr>\n",
       "      <th>cr_hist_age_mths</th>\n",
       "      <td>int64</td>\n",
       "      <td>8881368</td>\n",
       "      <td>uint16</td>\n",
       "      <td>2220342</td>\n",
       "    </tr>\n",
       "    <tr>\n",
       "      <th>fico_range_low</th>\n",
       "      <td>float64</td>\n",
       "      <td>8881368</td>\n",
       "      <td>uint16</td>\n",
       "      <td>2220342</td>\n",
       "    </tr>\n",
       "    <tr>\n",
       "      <th>fico_range_high</th>\n",
       "      <td>float64</td>\n",
       "      <td>8881368</td>\n",
       "      <td>uint16</td>\n",
       "      <td>2220342</td>\n",
       "    </tr>\n",
       "    <tr>\n",
       "      <th>inq_last_6mths</th>\n",
       "      <td>float64</td>\n",
       "      <td>8881368</td>\n",
       "      <td>uint8</td>\n",
       "      <td>1110171</td>\n",
       "    </tr>\n",
       "    <tr>\n",
       "      <th>inv_mths_since_last_delinq</th>\n",
       "      <td>float64</td>\n",
       "      <td>8881368</td>\n",
       "      <td>float32</td>\n",
       "      <td>4440684</td>\n",
       "    </tr>\n",
       "    <tr>\n",
       "      <th>inv_mths_since_last_record</th>\n",
       "      <td>float64</td>\n",
       "      <td>8881368</td>\n",
       "      <td>float32</td>\n",
       "      <td>4440684</td>\n",
       "    </tr>\n",
       "    <tr>\n",
       "      <th>open_acc</th>\n",
       "      <td>float64</td>\n",
       "      <td>8881368</td>\n",
       "      <td>uint8</td>\n",
       "      <td>1110171</td>\n",
       "    </tr>\n",
       "    <tr>\n",
       "      <th>pub_rec</th>\n",
       "      <td>float64</td>\n",
       "      <td>8881368</td>\n",
       "      <td>uint8</td>\n",
       "      <td>1110171</td>\n",
       "    </tr>\n",
       "    <tr>\n",
       "      <th>revol_bal</th>\n",
       "      <td>float64</td>\n",
       "      <td>8881368</td>\n",
       "      <td>uint32</td>\n",
       "      <td>4440684</td>\n",
       "    </tr>\n",
       "    <tr>\n",
       "      <th>revol_util</th>\n",
       "      <td>float64</td>\n",
       "      <td>8881368</td>\n",
       "      <td>float32</td>\n",
       "      <td>4440684</td>\n",
       "    </tr>\n",
       "    <tr>\n",
       "      <th>total_acc</th>\n",
       "      <td>float64</td>\n",
       "      <td>8881368</td>\n",
       "      <td>uint8</td>\n",
       "      <td>1110171</td>\n",
       "    </tr>\n",
       "    <tr>\n",
       "      <th>collections_12_mths_ex_med</th>\n",
       "      <td>float64</td>\n",
       "      <td>8881368</td>\n",
       "      <td>uint8</td>\n",
       "      <td>1110171</td>\n",
       "    </tr>\n",
       "    <tr>\n",
       "      <th>inv_mths_since_last_major_derog</th>\n",
       "      <td>float64</td>\n",
       "      <td>8881368</td>\n",
       "      <td>float32</td>\n",
       "      <td>4440684</td>\n",
       "    </tr>\n",
       "    <tr>\n",
       "      <th>application_type</th>\n",
       "      <td>object</td>\n",
       "      <td>74360578</td>\n",
       "      <td>category</td>\n",
       "      <td>1110384</td>\n",
       "    </tr>\n",
       "    <tr>\n",
       "      <th>annual_inc_joint</th>\n",
       "      <td>float64</td>\n",
       "      <td>8881368</td>\n",
       "      <td>float32</td>\n",
       "      <td>4440684</td>\n",
       "    </tr>\n",
       "    <tr>\n",
       "      <th>dti_joint</th>\n",
       "      <td>float64</td>\n",
       "      <td>8881368</td>\n",
       "      <td>float32</td>\n",
       "      <td>4440684</td>\n",
       "    </tr>\n",
       "    <tr>\n",
       "      <th>acc_now_delinq</th>\n",
       "      <td>float64</td>\n",
       "      <td>8881368</td>\n",
       "      <td>uint8</td>\n",
       "      <td>1110171</td>\n",
       "    </tr>\n",
       "    <tr>\n",
       "      <th>tot_coll_amt</th>\n",
       "      <td>float64</td>\n",
       "      <td>8881368</td>\n",
       "      <td>uint32</td>\n",
       "      <td>4440684</td>\n",
       "    </tr>\n",
       "    <tr>\n",
       "      <th>tot_cur_bal</th>\n",
       "      <td>float64</td>\n",
       "      <td>8881368</td>\n",
       "      <td>uint32</td>\n",
       "      <td>4440684</td>\n",
       "    </tr>\n",
       "    <tr>\n",
       "      <th>total_rev_hi_lim</th>\n",
       "      <td>float64</td>\n",
       "      <td>8881368</td>\n",
       "      <td>uint32</td>\n",
       "      <td>4440684</td>\n",
       "    </tr>\n",
       "    <tr>\n",
       "      <th>acc_open_past_24mths</th>\n",
       "      <td>float64</td>\n",
       "      <td>8881368</td>\n",
       "      <td>uint8</td>\n",
       "      <td>1110171</td>\n",
       "    </tr>\n",
       "    <tr>\n",
       "      <th>avg_cur_bal</th>\n",
       "      <td>float64</td>\n",
       "      <td>8881368</td>\n",
       "      <td>uint32</td>\n",
       "      <td>4440684</td>\n",
       "    </tr>\n",
       "    <tr>\n",
       "      <th>bc_open_to_buy</th>\n",
       "      <td>float64</td>\n",
       "      <td>8881368</td>\n",
       "      <td>uint32</td>\n",
       "      <td>4440684</td>\n",
       "    </tr>\n",
       "    <tr>\n",
       "      <th>bc_util</th>\n",
       "      <td>float64</td>\n",
       "      <td>8881368</td>\n",
       "      <td>float32</td>\n",
       "      <td>4440684</td>\n",
       "    </tr>\n",
       "    <tr>\n",
       "      <th>chargeoff_within_12_mths</th>\n",
       "      <td>float64</td>\n",
       "      <td>8881368</td>\n",
       "      <td>uint8</td>\n",
       "      <td>1110171</td>\n",
       "    </tr>\n",
       "    <tr>\n",
       "      <th>delinq_amnt</th>\n",
       "      <td>float64</td>\n",
       "      <td>8881368</td>\n",
       "      <td>uint32</td>\n",
       "      <td>4440684</td>\n",
       "    </tr>\n",
       "    <tr>\n",
       "      <th>mo_sin_old_il_acct</th>\n",
       "      <td>float64</td>\n",
       "      <td>8881368</td>\n",
       "      <td>uint16</td>\n",
       "      <td>2220342</td>\n",
       "    </tr>\n",
       "    <tr>\n",
       "      <th>mo_sin_old_rev_tl_op</th>\n",
       "      <td>float64</td>\n",
       "      <td>8881368</td>\n",
       "      <td>uint16</td>\n",
       "      <td>2220342</td>\n",
       "    </tr>\n",
       "    <tr>\n",
       "      <th>inv_mo_sin_rcnt_rev_tl_op</th>\n",
       "      <td>float64</td>\n",
       "      <td>8881368</td>\n",
       "      <td>float32</td>\n",
       "      <td>4440684</td>\n",
       "    </tr>\n",
       "    <tr>\n",
       "      <th>inv_mo_sin_rcnt_tl</th>\n",
       "      <td>float64</td>\n",
       "      <td>8881368</td>\n",
       "      <td>float32</td>\n",
       "      <td>4440684</td>\n",
       "    </tr>\n",
       "    <tr>\n",
       "      <th>mort_acc</th>\n",
       "      <td>float64</td>\n",
       "      <td>8881368</td>\n",
       "      <td>uint8</td>\n",
       "      <td>1110171</td>\n",
       "    </tr>\n",
       "    <tr>\n",
       "      <th>inv_mths_since_recent_bc</th>\n",
       "      <td>float64</td>\n",
       "      <td>8881368</td>\n",
       "      <td>float32</td>\n",
       "      <td>4440684</td>\n",
       "    </tr>\n",
       "    <tr>\n",
       "      <th>inv_mths_since_recent_bc_dlq</th>\n",
       "      <td>float64</td>\n",
       "      <td>8881368</td>\n",
       "      <td>float32</td>\n",
       "      <td>4440684</td>\n",
       "    </tr>\n",
       "    <tr>\n",
       "      <th>inv_mths_since_recent_inq</th>\n",
       "      <td>float64</td>\n",
       "      <td>8881368</td>\n",
       "      <td>float32</td>\n",
       "      <td>4440684</td>\n",
       "    </tr>\n",
       "    <tr>\n",
       "      <th>inv_mths_since_recent_revol_delinq</th>\n",
       "      <td>float64</td>\n",
       "      <td>8881368</td>\n",
       "      <td>float32</td>\n",
       "      <td>4440684</td>\n",
       "    </tr>\n",
       "    <tr>\n",
       "      <th>num_accts_ever_120_pd</th>\n",
       "      <td>float64</td>\n",
       "      <td>8881368</td>\n",
       "      <td>uint8</td>\n",
       "      <td>1110171</td>\n",
       "    </tr>\n",
       "    <tr>\n",
       "      <th>num_actv_bc_tl</th>\n",
       "      <td>float64</td>\n",
       "      <td>8881368</td>\n",
       "      <td>uint8</td>\n",
       "      <td>1110171</td>\n",
       "    </tr>\n",
       "    <tr>\n",
       "      <th>num_actv_rev_tl</th>\n",
       "      <td>float64</td>\n",
       "      <td>8881368</td>\n",
       "      <td>uint8</td>\n",
       "      <td>1110171</td>\n",
       "    </tr>\n",
       "    <tr>\n",
       "      <th>num_bc_sats</th>\n",
       "      <td>float64</td>\n",
       "      <td>8881368</td>\n",
       "      <td>uint8</td>\n",
       "      <td>1110171</td>\n",
       "    </tr>\n",
       "    <tr>\n",
       "      <th>num_bc_tl</th>\n",
       "      <td>float64</td>\n",
       "      <td>8881368</td>\n",
       "      <td>uint8</td>\n",
       "      <td>1110171</td>\n",
       "    </tr>\n",
       "    <tr>\n",
       "      <th>num_il_tl</th>\n",
       "      <td>float64</td>\n",
       "      <td>8881368</td>\n",
       "      <td>uint8</td>\n",
       "      <td>1110171</td>\n",
       "    </tr>\n",
       "    <tr>\n",
       "      <th>num_op_rev_tl</th>\n",
       "      <td>float64</td>\n",
       "      <td>8881368</td>\n",
       "      <td>uint8</td>\n",
       "      <td>1110171</td>\n",
       "    </tr>\n",
       "    <tr>\n",
       "      <th>num_rev_accts</th>\n",
       "      <td>float64</td>\n",
       "      <td>8881368</td>\n",
       "      <td>uint8</td>\n",
       "      <td>1110171</td>\n",
       "    </tr>\n",
       "    <tr>\n",
       "      <th>num_rev_tl_bal_gt_0</th>\n",
       "      <td>float64</td>\n",
       "      <td>8881368</td>\n",
       "      <td>uint8</td>\n",
       "      <td>1110171</td>\n",
       "    </tr>\n",
       "    <tr>\n",
       "      <th>num_sats</th>\n",
       "      <td>float64</td>\n",
       "      <td>8881368</td>\n",
       "      <td>uint8</td>\n",
       "      <td>1110171</td>\n",
       "    </tr>\n",
       "    <tr>\n",
       "      <th>num_tl_120dpd_2m</th>\n",
       "      <td>float64</td>\n",
       "      <td>8881368</td>\n",
       "      <td>uint8</td>\n",
       "      <td>1110171</td>\n",
       "    </tr>\n",
       "    <tr>\n",
       "      <th>num_tl_30dpd</th>\n",
       "      <td>float64</td>\n",
       "      <td>8881368</td>\n",
       "      <td>uint8</td>\n",
       "      <td>1110171</td>\n",
       "    </tr>\n",
       "    <tr>\n",
       "      <th>num_tl_90g_dpd_24m</th>\n",
       "      <td>float64</td>\n",
       "      <td>8881368</td>\n",
       "      <td>uint8</td>\n",
       "      <td>1110171</td>\n",
       "    </tr>\n",
       "    <tr>\n",
       "      <th>num_tl_op_past_12m</th>\n",
       "      <td>float64</td>\n",
       "      <td>8881368</td>\n",
       "      <td>uint8</td>\n",
       "      <td>1110171</td>\n",
       "    </tr>\n",
       "    <tr>\n",
       "      <th>pct_tl_nvr_dlq</th>\n",
       "      <td>float64</td>\n",
       "      <td>8881368</td>\n",
       "      <td>float32</td>\n",
       "      <td>4440684</td>\n",
       "    </tr>\n",
       "    <tr>\n",
       "      <th>percent_bc_gt_75</th>\n",
       "      <td>float64</td>\n",
       "      <td>8881368</td>\n",
       "      <td>float32</td>\n",
       "      <td>4440684</td>\n",
       "    </tr>\n",
       "    <tr>\n",
       "      <th>pub_rec_bankruptcies</th>\n",
       "      <td>float64</td>\n",
       "      <td>8881368</td>\n",
       "      <td>uint8</td>\n",
       "      <td>1110171</td>\n",
       "    </tr>\n",
       "    <tr>\n",
       "      <th>tax_liens</th>\n",
       "      <td>float64</td>\n",
       "      <td>8881368</td>\n",
       "      <td>uint8</td>\n",
       "      <td>1110171</td>\n",
       "    </tr>\n",
       "    <tr>\n",
       "      <th>tot_hi_cred_lim</th>\n",
       "      <td>float64</td>\n",
       "      <td>8881368</td>\n",
       "      <td>uint32</td>\n",
       "      <td>4440684</td>\n",
       "    </tr>\n",
       "    <tr>\n",
       "      <th>total_bal_ex_mort</th>\n",
       "      <td>float64</td>\n",
       "      <td>8881368</td>\n",
       "      <td>uint32</td>\n",
       "      <td>4440684</td>\n",
       "    </tr>\n",
       "    <tr>\n",
       "      <th>total_bc_limit</th>\n",
       "      <td>float64</td>\n",
       "      <td>8881368</td>\n",
       "      <td>uint32</td>\n",
       "      <td>4440684</td>\n",
       "    </tr>\n",
       "    <tr>\n",
       "      <th>total_il_high_credit_limit</th>\n",
       "      <td>float64</td>\n",
       "      <td>8881368</td>\n",
       "      <td>uint32</td>\n",
       "      <td>4440684</td>\n",
       "    </tr>\n",
       "    <tr>\n",
       "      <th>fraction_recovered</th>\n",
       "      <td>float64</td>\n",
       "      <td>8881368</td>\n",
       "      <td>float32</td>\n",
       "      <td>4440684</td>\n",
       "    </tr>\n",
       "    <tr>\n",
       "      <th>title</th>\n",
       "      <td>object</td>\n",
       "      <td>82840461</td>\n",
       "      <td>object</td>\n",
       "      <td>82840461</td>\n",
       "    </tr>\n",
       "    <tr>\n",
       "      <th>desc</th>\n",
       "      <td>object</td>\n",
       "      <td>46918516</td>\n",
       "      <td>object</td>\n",
       "      <td>46918516</td>\n",
       "    </tr>\n",
       "  </tbody>\n",
       "</table>\n",
       "</div>"
      ],
      "text/plain": [
       "                                   previous_dtype  previous_size  \\\n",
       "loan_amnt                                 float64        8881368   \n",
       "term                                       object       73271286   \n",
       "emp_length                                 object       71853397   \n",
       "home_ownership                             object       69841784   \n",
       "annual_inc                                float64        8881368   \n",
       "purpose                                    object       79927721   \n",
       "dti                                       float64        8881368   \n",
       "delinq_2yrs                               float64        8881368   \n",
       "cr_hist_age_mths                            int64        8881368   \n",
       "fico_range_low                            float64        8881368   \n",
       "fico_range_high                           float64        8881368   \n",
       "inq_last_6mths                            float64        8881368   \n",
       "inv_mths_since_last_delinq                float64        8881368   \n",
       "inv_mths_since_last_record                float64        8881368   \n",
       "open_acc                                  float64        8881368   \n",
       "pub_rec                                   float64        8881368   \n",
       "revol_bal                                 float64        8881368   \n",
       "revol_util                                float64        8881368   \n",
       "total_acc                                 float64        8881368   \n",
       "collections_12_mths_ex_med                float64        8881368   \n",
       "inv_mths_since_last_major_derog           float64        8881368   \n",
       "application_type                           object       74360578   \n",
       "annual_inc_joint                          float64        8881368   \n",
       "dti_joint                                 float64        8881368   \n",
       "acc_now_delinq                            float64        8881368   \n",
       "tot_coll_amt                              float64        8881368   \n",
       "tot_cur_bal                               float64        8881368   \n",
       "total_rev_hi_lim                          float64        8881368   \n",
       "acc_open_past_24mths                      float64        8881368   \n",
       "avg_cur_bal                               float64        8881368   \n",
       "bc_open_to_buy                            float64        8881368   \n",
       "bc_util                                   float64        8881368   \n",
       "chargeoff_within_12_mths                  float64        8881368   \n",
       "delinq_amnt                               float64        8881368   \n",
       "mo_sin_old_il_acct                        float64        8881368   \n",
       "mo_sin_old_rev_tl_op                      float64        8881368   \n",
       "inv_mo_sin_rcnt_rev_tl_op                 float64        8881368   \n",
       "inv_mo_sin_rcnt_tl                        float64        8881368   \n",
       "mort_acc                                  float64        8881368   \n",
       "inv_mths_since_recent_bc                  float64        8881368   \n",
       "inv_mths_since_recent_bc_dlq              float64        8881368   \n",
       "inv_mths_since_recent_inq                 float64        8881368   \n",
       "inv_mths_since_recent_revol_delinq        float64        8881368   \n",
       "num_accts_ever_120_pd                     float64        8881368   \n",
       "num_actv_bc_tl                            float64        8881368   \n",
       "num_actv_rev_tl                           float64        8881368   \n",
       "num_bc_sats                               float64        8881368   \n",
       "num_bc_tl                                 float64        8881368   \n",
       "num_il_tl                                 float64        8881368   \n",
       "num_op_rev_tl                             float64        8881368   \n",
       "num_rev_accts                             float64        8881368   \n",
       "num_rev_tl_bal_gt_0                       float64        8881368   \n",
       "num_sats                                  float64        8881368   \n",
       "num_tl_120dpd_2m                          float64        8881368   \n",
       "num_tl_30dpd                              float64        8881368   \n",
       "num_tl_90g_dpd_24m                        float64        8881368   \n",
       "num_tl_op_past_12m                        float64        8881368   \n",
       "pct_tl_nvr_dlq                            float64        8881368   \n",
       "percent_bc_gt_75                          float64        8881368   \n",
       "pub_rec_bankruptcies                      float64        8881368   \n",
       "tax_liens                                 float64        8881368   \n",
       "tot_hi_cred_lim                           float64        8881368   \n",
       "total_bal_ex_mort                         float64        8881368   \n",
       "total_bc_limit                            float64        8881368   \n",
       "total_il_high_credit_limit                float64        8881368   \n",
       "fraction_recovered                        float64        8881368   \n",
       "title                                      object       82840461   \n",
       "desc                                       object       46918516   \n",
       "\n",
       "                                   current_dtype  current_size  \n",
       "loan_amnt                                 uint16       2220342  \n",
       "term                                    category       1110383  \n",
       "emp_length                              category       1111197  \n",
       "home_ownership                          category       1110700  \n",
       "annual_inc                               float32       4440684  \n",
       "purpose                                 category       1111750  \n",
       "dti                                      float32       4440684  \n",
       "delinq_2yrs                                uint8       1110171  \n",
       "cr_hist_age_mths                          uint16       2220342  \n",
       "fico_range_low                            uint16       2220342  \n",
       "fico_range_high                           uint16       2220342  \n",
       "inq_last_6mths                             uint8       1110171  \n",
       "inv_mths_since_last_delinq               float32       4440684  \n",
       "inv_mths_since_last_record               float32       4440684  \n",
       "open_acc                                   uint8       1110171  \n",
       "pub_rec                                    uint8       1110171  \n",
       "revol_bal                                 uint32       4440684  \n",
       "revol_util                               float32       4440684  \n",
       "total_acc                                  uint8       1110171  \n",
       "collections_12_mths_ex_med                 uint8       1110171  \n",
       "inv_mths_since_last_major_derog          float32       4440684  \n",
       "application_type                        category       1110384  \n",
       "annual_inc_joint                         float32       4440684  \n",
       "dti_joint                                float32       4440684  \n",
       "acc_now_delinq                             uint8       1110171  \n",
       "tot_coll_amt                              uint32       4440684  \n",
       "tot_cur_bal                               uint32       4440684  \n",
       "total_rev_hi_lim                          uint32       4440684  \n",
       "acc_open_past_24mths                       uint8       1110171  \n",
       "avg_cur_bal                               uint32       4440684  \n",
       "bc_open_to_buy                            uint32       4440684  \n",
       "bc_util                                  float32       4440684  \n",
       "chargeoff_within_12_mths                   uint8       1110171  \n",
       "delinq_amnt                               uint32       4440684  \n",
       "mo_sin_old_il_acct                        uint16       2220342  \n",
       "mo_sin_old_rev_tl_op                      uint16       2220342  \n",
       "inv_mo_sin_rcnt_rev_tl_op                float32       4440684  \n",
       "inv_mo_sin_rcnt_tl                       float32       4440684  \n",
       "mort_acc                                   uint8       1110171  \n",
       "inv_mths_since_recent_bc                 float32       4440684  \n",
       "inv_mths_since_recent_bc_dlq             float32       4440684  \n",
       "inv_mths_since_recent_inq                float32       4440684  \n",
       "inv_mths_since_recent_revol_delinq       float32       4440684  \n",
       "num_accts_ever_120_pd                      uint8       1110171  \n",
       "num_actv_bc_tl                             uint8       1110171  \n",
       "num_actv_rev_tl                            uint8       1110171  \n",
       "num_bc_sats                                uint8       1110171  \n",
       "num_bc_tl                                  uint8       1110171  \n",
       "num_il_tl                                  uint8       1110171  \n",
       "num_op_rev_tl                              uint8       1110171  \n",
       "num_rev_accts                              uint8       1110171  \n",
       "num_rev_tl_bal_gt_0                        uint8       1110171  \n",
       "num_sats                                   uint8       1110171  \n",
       "num_tl_120dpd_2m                           uint8       1110171  \n",
       "num_tl_30dpd                               uint8       1110171  \n",
       "num_tl_90g_dpd_24m                         uint8       1110171  \n",
       "num_tl_op_past_12m                         uint8       1110171  \n",
       "pct_tl_nvr_dlq                           float32       4440684  \n",
       "percent_bc_gt_75                         float32       4440684  \n",
       "pub_rec_bankruptcies                       uint8       1110171  \n",
       "tax_liens                                  uint8       1110171  \n",
       "tot_hi_cred_lim                           uint32       4440684  \n",
       "total_bal_ex_mort                         uint32       4440684  \n",
       "total_bc_limit                            uint32       4440684  \n",
       "total_il_high_credit_limit                uint32       4440684  \n",
       "fraction_recovered                       float32       4440684  \n",
       "title                                     object      82840461  \n",
       "desc                                      object      46918516  "
      ]
     },
     "execution_count": 15,
     "metadata": {},
     "output_type": "execute_result"
    }
   ],
   "source": [
    "from pandas.api.types import CategoricalDtype\n",
    "\n",
    "\n",
    "loans = loans.drop(columns=[\"issue_d\"])\n",
    "\n",
    "float_cols = [\"annual_inc\", \"dti\", \"inv_mths_since_last_delinq\",\n",
    "    \"inv_mths_since_last_record\", \"revol_util\", \"inv_mths_since_last_major_derog\",\n",
    "    \"annual_inc_joint\", \"dti_joint\", \"bc_util\", \"inv_mo_sin_rcnt_rev_tl_op\",\n",
    "    \"inv_mo_sin_rcnt_tl\", \"inv_mths_since_recent_bc\", \"inv_mths_since_recent_bc_dlq\",\n",
    "    \"inv_mths_since_recent_inq\", \"inv_mths_since_recent_revol_delinq\", \"pct_tl_nvr_dlq\",\n",
    "    \"percent_bc_gt_75\", \"fraction_recovered\"]\n",
    "int_cols = [\"loan_amnt\", \"delinq_2yrs\", \"cr_hist_age_mths\", \"fico_range_low\",\n",
    "    \"fico_range_high\", \"inq_last_6mths\", \"open_acc\", \"pub_rec\", \"revol_bal\",\n",
    "    \"total_acc\", \"collections_12_mths_ex_med\", \"acc_now_delinq\", \"tot_coll_amt\",\n",
    "    \"tot_cur_bal\", \"total_rev_hi_lim\", \"acc_open_past_24mths\", \"avg_cur_bal\",\n",
    "    \"bc_open_to_buy\", \"chargeoff_within_12_mths\", \"delinq_amnt\", \"mo_sin_old_il_acct\",\n",
    "    \"mo_sin_old_rev_tl_op\", \"mort_acc\", \"num_accts_ever_120_pd\", \"num_actv_bc_tl\",\n",
    "    \"num_actv_rev_tl\", \"num_bc_sats\", \"num_bc_tl\", \"num_il_tl\", \"num_op_rev_tl\",\n",
    "    \"num_rev_accts\", \"num_rev_tl_bal_gt_0\", \"num_sats\", \"num_tl_120dpd_2m\",\n",
    "    \"num_tl_30dpd\", \"num_tl_90g_dpd_24m\", \"num_tl_op_past_12m\", \"pub_rec_bankruptcies\",\n",
    "    \"tax_liens\", \"tot_hi_cred_lim\", \"total_bal_ex_mort\", \"total_bc_limit\",\n",
    "    \"total_il_high_credit_limit\"]\n",
    "ordinal_cols = [\"emp_length\"]\n",
    "category_cols = [\"term\", \"home_ownership\", \"purpose\", \"application_type\"]\n",
    "text_cols = nlp_cols\n",
    "\n",
    "size_metrics = pd.DataFrame(\n",
    "    {\n",
    "        \"previous_dtype\": loans.dtypes,\n",
    "        \"previous_size\": loans.memory_usage(index=False, deep=True),\n",
    "    }\n",
    ")\n",
    "previous_size = loans.memory_usage(deep=True).sum()\n",
    "\n",
    "\n",
    "for col_name in float_cols:\n",
    "    loans[col_name] = pd.to_numeric(loans[col_name], downcast=\"float\")\n",
    "\n",
    "for col_name in int_cols:\n",
    "    loans[col_name] = pd.to_numeric(loans[col_name], downcast=\"unsigned\")\n",
    "\n",
    "emp_length_categories = [\"< 1 year\", \"1 year\", \"2 years\", \"3 years\", \"4 years\",\n",
    "    \"5 years\", \"6 years\", \"7 years\", \"8 years\", \"9 years\", \"10+ years\"]\n",
    "emp_length_type = CategoricalDtype(categories=emp_length_categories, ordered=True)\n",
    "loans[\"emp_length\"] = loans[\"emp_length\"].astype(emp_length_type)\n",
    "\n",
    "for col_name in category_cols:\n",
    "    loans[col_name] = loans[col_name].astype(\"category\")\n",
    "\n",
    "\n",
    "current_size = loans.memory_usage(deep=True).sum()\n",
    "reduction = (previous_size - current_size) / previous_size\n",
    "print(f\"Reduced DataFrame size in memory by {int(reduction * 100)}%.\")\n",
    "\n",
    "size_metrics[\"current_dtype\"] = loans.dtypes\n",
    "size_metrics[\"current_size\"] = loans.memory_usage(index=False, deep=True)\n",
    "pd.options.display.max_rows = 100\n",
    "size_metrics"
   ]
  },
  {
   "cell_type": "markdown",
   "metadata": {
    "papermill": {
     "duration": 0.028226,
     "end_time": "2020-10-13T23:02:03.718286",
     "exception": false,
     "start_time": "2020-10-13T23:02:03.690060",
     "status": "completed"
    },
    "tags": []
   },
   "source": [
    "## Creating document vectors\n",
    "\n",
    "_Now_ the fun part. Wrapping my [spaCy](https://spacy.io/) document vector function in a scikit-learn [`FunctionTransformer`](https://scikit-learn.org/stable/modules/generated/sklearn.preprocessing.FunctionTransformer.html) turned out to be the secret that kept this process within memory limits. Scikit-learn must just be way better optimized than whatever manual process I was using (go figure)."
   ]
  },
  {
   "cell_type": "code",
   "execution_count": 16,
   "metadata": {
    "execution": {
     "iopub.execute_input": "2020-10-13T23:02:03.783649Z",
     "iopub.status.busy": "2020-10-13T23:02:03.782962Z",
     "iopub.status.idle": "2020-10-13T23:02:05.383247Z",
     "shell.execute_reply": "2020-10-13T23:02:05.382552Z"
    },
    "papermill": {
     "duration": 1.636576,
     "end_time": "2020-10-13T23:02:05.383364",
     "exception": false,
     "start_time": "2020-10-13T23:02:03.746788",
     "status": "completed"
    },
    "tags": []
   },
   "outputs": [],
   "source": [
    "import spacy\n",
    "from sklearn.preprocessing import FunctionTransformer\n",
    "\n",
    "\n",
    "def get_doc_vectors(X):\n",
    "    n_cols = X.shape[1]\n",
    "    nlp = spacy.load(\"en_core_web_lg\", disable=[\"tagger\", \"parser\", \"ner\"])\n",
    "    \n",
    "    result = []\n",
    "    for row in X:\n",
    "        result_row = []\n",
    "        for i in range(n_cols):\n",
    "            result_row.append(nlp(row[i]).vector)\n",
    "            \n",
    "        result.append(np.concatenate(result_row))\n",
    "        \n",
    "    return np.array(result)\n",
    "\n",
    "\n",
    "vectorizer = FunctionTransformer(get_doc_vectors)"
   ]
  },
  {
   "cell_type": "markdown",
   "metadata": {
    "papermill": {
     "duration": 0.029469,
     "end_time": "2020-10-13T23:02:05.442490",
     "exception": false,
     "start_time": "2020-10-13T23:02:05.413021",
     "status": "completed"
    },
    "tags": []
   },
   "source": [
    "## Building the pipeline\n",
    "\n",
    "First, the transformer. I'll use scikit-learn's [`ColumnTransformer`](https://scikit-learn.org/stable/modules/generated/sklearn.compose.ColumnTransformer.html) to apply different transformations to different kinds of data."
   ]
  },
  {
   "cell_type": "code",
   "execution_count": 17,
   "metadata": {
    "execution": {
     "iopub.execute_input": "2020-10-13T23:02:05.513125Z",
     "iopub.status.busy": "2020-10-13T23:02:05.512378Z",
     "iopub.status.idle": "2020-10-13T23:02:05.748975Z",
     "shell.execute_reply": "2020-10-13T23:02:05.748437Z"
    },
    "papermill": {
     "duration": 0.276372,
     "end_time": "2020-10-13T23:02:05.749132",
     "exception": false,
     "start_time": "2020-10-13T23:02:05.472760",
     "status": "completed"
    },
    "tags": []
   },
   "outputs": [],
   "source": [
    "from sklearn.pipeline import Pipeline\n",
    "from sklearn.compose import ColumnTransformer, make_column_selector\n",
    "from sklearn.impute import SimpleImputer\n",
    "from sklearn.preprocessing import OrdinalEncoder, OneHotEncoder, StandardScaler\n",
    "from pathlib import Path\n",
    "\n",
    "\n",
    "def generate_cat_encoder(col_name):\n",
    "    categories = list(loans[col_name].cat.categories)\n",
    "    if loans[col_name].cat.ordered:\n",
    "        return (\n",
    "            col_name,\n",
    "            OrdinalEncoder(categories=[categories], dtype=np.uint8),\n",
    "            [col_name],\n",
    "        )\n",
    "    else:\n",
    "        return (\n",
    "            col_name,\n",
    "            OneHotEncoder(categories=[categories], drop=\"if_binary\", dtype=np.bool_),\n",
    "            [col_name],\n",
    "        )\n",
    "\n",
    "\n",
    "Path(\"../tmp/transformer_cache\").mkdir(parents=True, exist_ok=True)\n",
    "transformer = ColumnTransformer(\n",
    "    [\n",
    "        (\n",
    "            \"nlp_cols\",\n",
    "            Pipeline(\n",
    "                [\n",
    "                    (\n",
    "                        \"nlp_imputer\",\n",
    "                        SimpleImputer(strategy=\"constant\", fill_value=\"\"),\n",
    "                    ),\n",
    "                    (\"nlp_vectorizer\", vectorizer),\n",
    "                    (\"nlp_scaler\", StandardScaler(with_mean=False)),\n",
    "                ],\n",
    "                verbose=True,\n",
    "            ),\n",
    "            make_column_selector(\"^(title|desc)$\"),\n",
    "        ),\n",
    "    ]\n",
    "    + [generate_cat_encoder(col_name) for col_name in ordinal_cols + category_cols],\n",
    "    remainder=StandardScaler(),\n",
    "    verbose=True,\n",
    ")"
   ]
  },
  {
   "cell_type": "markdown",
   "metadata": {
    "papermill": {
     "duration": 0.028521,
     "end_time": "2020-10-13T23:02:05.806781",
     "exception": false,
     "start_time": "2020-10-13T23:02:05.778260",
     "status": "completed"
    },
    "tags": []
   },
   "source": [
    "This model itself will be identical to my [previous model](https://www.kaggle.com/tywmick/building-a-neural-network-to-predict-loan-risk#Building-the-neural-networks), but I'll use Keras callbacks and a [tqdm](https://github.com/tqdm/tqdm) progress bar to make the training logs much more concise."
   ]
  },
  {
   "cell_type": "code",
   "execution_count": 18,
   "metadata": {
    "_kg_hide-input": false,
    "execution": {
     "iopub.execute_input": "2020-10-13T23:02:05.881685Z",
     "iopub.status.busy": "2020-10-13T23:02:05.880955Z",
     "iopub.status.idle": "2020-10-13T23:02:11.763465Z",
     "shell.execute_reply": "2020-10-13T23:02:11.762767Z"
    },
    "papermill": {
     "duration": 5.927637,
     "end_time": "2020-10-13T23:02:11.763586",
     "exception": false,
     "start_time": "2020-10-13T23:02:05.835949",
     "status": "completed"
    },
    "tags": []
   },
   "outputs": [],
   "source": [
    "import tensorflow as tf\n",
    "from tensorflow.keras import Sequential, Input\n",
    "from tensorflow.keras.layers import Dense, Dropout\n",
    "from sklearn.model_selection import train_test_split\n",
    "from tqdm import tqdm\n",
    "\n",
    "np.random.seed(0)\n",
    "tf.random.set_seed(1)\n",
    "\n",
    "\n",
    "class ProgressBar(tf.keras.callbacks.Callback):\n",
    "    def __init__(self, epochs=100):\n",
    "        self.epochs = epochs\n",
    "    \n",
    "    def on_train_begin(self, logs=None):\n",
    "        self.progress_bar = tqdm(desc=\"Training model\", total=self.epochs, unit=\"epoch\")\n",
    "\n",
    "    def on_epoch_end(self, epoch, logs=None):\n",
    "        self.progress_bar.update()\n",
    "\n",
    "    def on_train_end(self, logs=None):\n",
    "        self.progress_bar.close()\n",
    "\n",
    "\n",
    "class FinalMetrics(tf.keras.callbacks.Callback):\n",
    "    def on_train_end(self, logs=None):\n",
    "        metrics_msg = \"Final metrics:\"\n",
    "        for metric, value in logs.items():\n",
    "            metrics_msg += f\" {metric}: {value:.5f} -\"\n",
    "        metrics_msg = metrics_msg[:-2]\n",
    "        print(metrics_msg)\n",
    "\n",
    "\n",
    "def run_pipeline(X, y, transformer, validate=True):\n",
    "    X_train, X_val, y_train, y_val = (\n",
    "        train_test_split(X, y, test_size=0.2, random_state=2)\n",
    "        if validate\n",
    "        else (X, None, y, None)\n",
    "    )\n",
    "\n",
    "    X_train_t = transformer.fit_transform(X_train)\n",
    "    X_val_t = transformer.transform(X_val) if validate else None\n",
    "\n",
    "    model = Sequential()\n",
    "    model.add(Input((X_train_t.shape[1],)))\n",
    "    model.add(Dense(64, activation=\"relu\"))\n",
    "    model.add(Dropout(0.3))\n",
    "    model.add(Dense(32, activation=\"relu\"))\n",
    "    model.add(Dropout(0.3))\n",
    "    model.add(Dense(16, activation=\"relu\"))\n",
    "    model.add(Dropout(0.3))\n",
    "    model.add(Dense(1))\n",
    "    model.compile(optimizer=\"adam\", loss=\"mean_squared_logarithmic_error\")\n",
    "\n",
    "    history = model.fit(\n",
    "        X_train_t,\n",
    "        y_train,\n",
    "        validation_data=(X_val_t, y_val) if validate else None,\n",
    "        batch_size=128,\n",
    "        epochs=100,\n",
    "        verbose=0,\n",
    "        callbacks=[ProgressBar(), FinalMetrics()],\n",
    "    )\n",
    "    \n",
    "    return history.history, model, transformer"
   ]
  },
  {
   "cell_type": "markdown",
   "metadata": {
    "papermill": {
     "duration": 0.028972,
     "end_time": "2020-10-13T23:02:11.827219",
     "exception": false,
     "start_time": "2020-10-13T23:02:11.798247",
     "status": "completed"
    },
    "tags": []
   },
   "source": [
    "## Evaluating the model"
   ]
  },
  {
   "cell_type": "code",
   "execution_count": 19,
   "metadata": {
    "_kg_hide-output": false,
    "execution": {
     "iopub.execute_input": "2020-10-13T23:02:11.891596Z",
     "iopub.status.busy": "2020-10-13T23:02:11.890874Z",
     "iopub.status.idle": "2020-10-13T23:27:54.138391Z",
     "shell.execute_reply": "2020-10-13T23:27:54.138864Z"
    },
    "papermill": {
     "duration": 1542.282758,
     "end_time": "2020-10-13T23:27:54.139094",
     "exception": false,
     "start_time": "2020-10-13T23:02:11.856336",
     "status": "completed"
    },
    "tags": []
   },
   "outputs": [
    {
     "name": "stderr",
     "output_type": "stream",
     "text": [
      "/opt/conda/lib/python3.7/site-packages/pandas/core/strings.py:2001: UserWarning: This pattern has match groups. To actually get the groups, use str.extract.\n",
      "  return func(self, *args, **kwargs)\n"
     ]
    },
    {
     "name": "stdout",
     "output_type": "stream",
     "text": [
      "[Pipeline] ....... (step 1 of 3) Processing nlp_imputer, total=   0.4s\n",
      "[Pipeline] .... (step 2 of 3) Processing nlp_vectorizer, total= 1.2min\n",
      "[Pipeline] ........ (step 3 of 3) Processing nlp_scaler, total=   8.6s\n",
      "[ColumnTransformer] ...... (1 of 7) Processing nlp_cols, total= 1.3min\n",
      "[ColumnTransformer] .... (2 of 7) Processing emp_length, total=   0.2s\n",
      "[ColumnTransformer] .......... (3 of 7) Processing term, total=   0.3s\n",
      "[ColumnTransformer]  (4 of 7) Processing home_ownership, total=   0.3s\n",
      "[ColumnTransformer] ....... (5 of 7) Processing purpose, total=   0.3s\n",
      "[ColumnTransformer]  (6 of 7) Processing application_type, total=   0.3s\n",
      "[ColumnTransformer] ..... (7 of 7) Processing remainder, total=   1.3s\n"
     ]
    },
    {
     "name": "stderr",
     "output_type": "stream",
     "text": [
      "Training model: 100%|██████████| 100/100 [23:41<00:00, 14.22s/epoch]\n"
     ]
    },
    {
     "name": "stdout",
     "output_type": "stream",
     "text": [
      "Final metrics: loss: 0.02365 - val_loss: 0.02360\n"
     ]
    }
   ],
   "source": [
    "import dill\n",
    "\n",
    "history_1, _, _ = run_pipeline(\n",
    "    loans.drop(columns=\"fraction_recovered\").copy(),\n",
    "    loans[\"fraction_recovered\"],\n",
    "    transformer,\n",
    ")\n",
    "\n",
    "Path(\"save_points\").mkdir(exist_ok=True)\n",
    "dill.dump_session(\"save_points/model_1.pkl\")"
   ]
  },
  {
   "cell_type": "code",
   "execution_count": 20,
   "metadata": {
    "_kg_hide-input": true,
    "execution": {
     "iopub.execute_input": "2020-10-13T23:27:54.267254Z",
     "iopub.status.busy": "2020-10-13T23:27:54.266618Z",
     "iopub.status.idle": "2020-10-13T23:27:54.271250Z",
     "shell.execute_reply": "2020-10-13T23:27:54.270644Z"
    },
    "papermill": {
     "duration": 0.069749,
     "end_time": "2020-10-13T23:27:54.271367",
     "exception": false,
     "start_time": "2020-10-13T23:27:54.201618",
     "status": "completed"
    },
    "tags": []
   },
   "outputs": [],
   "source": [
    "# Restore save point if needed\n",
    "import dill\n",
    "\n",
    "try:\n",
    "    history_1\n",
    "except NameError:\n",
    "    dill.load_session(\"save_points/model_1.pkl\")"
   ]
  },
  {
   "cell_type": "code",
   "execution_count": 21,
   "metadata": {
    "execution": {
     "iopub.execute_input": "2020-10-13T23:27:54.401152Z",
     "iopub.status.busy": "2020-10-13T23:27:54.400476Z",
     "iopub.status.idle": "2020-10-13T23:27:54.807378Z",
     "shell.execute_reply": "2020-10-13T23:27:54.806739Z"
    },
    "papermill": {
     "duration": 0.47629,
     "end_time": "2020-10-13T23:27:54.807507",
     "exception": false,
     "start_time": "2020-10-13T23:27:54.331217",
     "status": "completed"
    },
    "tags": []
   },
   "outputs": [
    {
     "data": {
      "image/png": "[encoded data removed]",
      "text/plain": [
       "<Figure size 432x288 with 1 Axes>"
      ]
     },
     "metadata": {
      "needs_background": "light"
     },
     "output_type": "display_data"
    }
   ],
   "source": [
    "import seaborn as sns\n",
    "import matplotlib.pyplot as plt\n",
    "%matplotlib inline\n",
    "\n",
    "\n",
    "def plot_loss_metrics(history, model_num=None):\n",
    "    for metric, values in history.items():\n",
    "        sns.lineplot(x=range(len(values)), y=values, label=metric)\n",
    "    plt.xlabel(\"epoch\")\n",
    "    plt.title(\n",
    "        f\"Model {f'{model_num} ' if model_num else ''} loss metrics during training\"\n",
    "    )\n",
    "    plt.show()\n",
    "\n",
    "\n",
    "plot_loss_metrics(history_1, \"1\")"
   ]
  },
  {
   "cell_type": "markdown",
   "metadata": {
    "papermill": {
     "duration": 0.060499,
     "end_time": "2020-10-13T23:27:54.929233",
     "exception": false,
     "start_time": "2020-10-13T23:27:54.868734",
     "status": "completed"
    },
    "tags": []
   },
   "source": [
    "Well, it didn't overfit, but this model performed a bit _worse_ than my original, which settled around a loss of 0.0231. I bet the `desc` feature is getting in the way&mdash;zeroes spanning 300 columns of the input data on 94% of the rows is probably quite confusing to the model. I'll see what happens if I repeat the process while leaving `desc` out (making the `title` vectors the only new feature of this model compared to my original)."
   ]
  },
  {
   "cell_type": "code",
   "execution_count": 22,
   "metadata": {
    "execution": {
     "iopub.execute_input": "2020-10-13T23:27:55.059087Z",
     "iopub.status.busy": "2020-10-13T23:27:55.058395Z",
     "iopub.status.idle": "2020-10-13T23:51:36.798247Z",
     "shell.execute_reply": "2020-10-13T23:51:36.797501Z"
    },
    "papermill": {
     "duration": 1421.808187,
     "end_time": "2020-10-13T23:51:36.798370",
     "exception": false,
     "start_time": "2020-10-13T23:27:54.990183",
     "status": "completed"
    },
    "tags": []
   },
   "outputs": [
    {
     "name": "stderr",
     "output_type": "stream",
     "text": [
      "/opt/conda/lib/python3.7/site-packages/pandas/core/strings.py:2001: UserWarning: This pattern has match groups. To actually get the groups, use str.extract.\n",
      "  return func(self, *args, **kwargs)\n"
     ]
    },
    {
     "name": "stdout",
     "output_type": "stream",
     "text": [
      "[Pipeline] ....... (step 1 of 3) Processing nlp_imputer, total=   0.1s\n",
      "[Pipeline] .... (step 2 of 3) Processing nlp_vectorizer, total=  41.3s\n",
      "[Pipeline] ........ (step 3 of 3) Processing nlp_scaler, total=   4.6s\n",
      "[ColumnTransformer] ...... (1 of 7) Processing nlp_cols, total=  45.9s\n",
      "[ColumnTransformer] .... (2 of 7) Processing emp_length, total=   0.2s\n",
      "[ColumnTransformer] .......... (3 of 7) Processing term, total=   0.3s\n",
      "[ColumnTransformer]  (4 of 7) Processing home_ownership, total=   0.3s\n",
      "[ColumnTransformer] ....... (5 of 7) Processing purpose, total=   0.3s\n",
      "[ColumnTransformer]  (6 of 7) Processing application_type, total=   0.3s\n",
      "[ColumnTransformer] ..... (7 of 7) Processing remainder, total=   1.1s\n"
     ]
    },
    {
     "name": "stderr",
     "output_type": "stream",
     "text": [
      "Training model: 100%|██████████| 100/100 [22:26<00:00, 13.46s/epoch]\n"
     ]
    },
    {
     "name": "stdout",
     "output_type": "stream",
     "text": [
      "Final metrics: loss: 0.02396 - val_loss: 0.02451\n"
     ]
    }
   ],
   "source": [
    "history_2, _, _ = run_pipeline(\n",
    "    loans.drop(columns=[\"fraction_recovered\", \"desc\"]).copy(),\n",
    "    loans[\"fraction_recovered\"],\n",
    "    transformer,\n",
    ")\n",
    "\n",
    "Path(\"save_points\").mkdir(exist_ok=True)\n",
    "dill.dump_session(\"save_points/model_2.pkl\")"
   ]
  },
  {
   "cell_type": "code",
   "execution_count": 23,
   "metadata": {
    "_kg_hide-input": true,
    "execution": {
     "iopub.execute_input": "2020-10-13T23:51:36.991688Z",
     "iopub.status.busy": "2020-10-13T23:51:36.990474Z",
     "iopub.status.idle": "2020-10-13T23:51:36.994065Z",
     "shell.execute_reply": "2020-10-13T23:51:36.994558Z"
    },
    "papermill": {
     "duration": 0.103885,
     "end_time": "2020-10-13T23:51:36.994712",
     "exception": false,
     "start_time": "2020-10-13T23:51:36.890827",
     "status": "completed"
    },
    "tags": []
   },
   "outputs": [],
   "source": [
    "# Restore save point if needed\n",
    "import dill\n",
    "\n",
    "try:\n",
    "    history_2\n",
    "except NameError:\n",
    "    dill.load_session(\"save_points/model_2.pkl\")"
   ]
  },
  {
   "cell_type": "code",
   "execution_count": 24,
   "metadata": {
    "execution": {
     "iopub.execute_input": "2020-10-13T23:51:37.193365Z",
     "iopub.status.busy": "2020-10-13T23:51:37.192686Z",
     "iopub.status.idle": "2020-10-13T23:51:37.386385Z",
     "shell.execute_reply": "2020-10-13T23:51:37.385766Z"
    },
    "papermill": {
     "duration": 0.297192,
     "end_time": "2020-10-13T23:51:37.386493",
     "exception": false,
     "start_time": "2020-10-13T23:51:37.089301",
     "status": "completed"
    },
    "tags": []
   },
   "outputs": [
    {
     "data": {
      "image/png": "[encoded data removed]",
      "text/plain": [
       "<Figure size 432x288 with 1 Axes>"
      ]
     },
     "metadata": {
      "needs_background": "light"
     },
     "output_type": "display_data"
    }
   ],
   "source": [
    "plot_loss_metrics(history_2, \"2\")"
   ]
  },
  {
   "cell_type": "markdown",
   "metadata": {
    "papermill": {
     "duration": 0.094001,
     "end_time": "2020-10-13T23:51:37.576421",
     "exception": false,
     "start_time": "2020-10-13T23:51:37.482420",
     "status": "completed"
    },
    "tags": []
   },
   "source": [
    "Wow, still not good enough to beat my original model. Just for kicks, I also tried additional runs where I trained for 1,000 epochs, and others where I increased the numbers of nodes in the first two dense layers to 128 and 64. And I tried decreasing the batch size to 64. But still none of these beat my original model. I suppose these text features have no predictive quality to them in terms of loan outcomes. Interesting.\n",
    "\n",
    "## Next steps\n",
    "\n",
    "If adding these two features decreased predictive capability, then surely removing some others would help as well. I should try using some of scikit-learn's [feature selection methods](https://scikit-learn.org/stable/modules/feature_selection.html) to reduce the dimensionality of the input data.\n",
    "\n",
    "A more efficient method of hyperparameter optimization would be pretty useful as well. I should give [AutoKeras](https://autokeras.com/) a shot.\n",
    "\n",
    "-----\n",
    "\n",
    "Well that was fun! Have any thoughts on how to better integrate language data into the model? I'd love to hear them in the comments below."
   ]
  }
 ],
 "metadata": {
  "kernelspec": {
   "display_name": "Python 3",
   "language": "python",
   "name": "python3"
  },
  "language_info": {
   "codemirror_mode": {
    "name": "ipython",
    "version": 3
   },
   "file_extension": ".py",
   "mimetype": "text/x-python",
   "name": "python",
   "nbconvert_exporter": "python",
   "pygments_lexer": "ipython3",
   "version": "3.7.6"
  },
  "papermill": {
   "duration": 3003.817029,
   "end_time": "2020-10-13T23:51:37.879308",
   "environment_variables": {},
   "exception": null,
   "input_path": "__notebook__.ipynb",
   "output_path": "__notebook__.ipynb",
   "parameters": {},
   "start_time": "2020-10-13T23:01:34.062279",
   "version": "2.1.0"
  }
 },
 "nbformat": 4,
 "nbformat_minor": 4
}
